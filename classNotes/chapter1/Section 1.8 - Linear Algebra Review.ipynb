{
 "cells": [
  {
   "cell_type": "code",
   "execution_count": 2,
   "id": "22855ec9-066c-47d0-95fa-0c9715c26db2",
   "metadata": {},
   "outputs": [],
   "source": [
    "# This is a comment\n",
    "\n",
    "import numpy as np"
   ]
  },
  {
   "cell_type": "code",
   "execution_count": 4,
   "id": "4f087822-9e91-41a1-89bb-04272541d076",
   "metadata": {},
   "outputs": [],
   "source": [
    "# Rudimentary Operations\n",
    "u = np.array([2,7,5,6])\n",
    "v = np.array([3,4,8,6])"
   ]
  },
  {
   "cell_type": "code",
   "execution_count": 5,
   "id": "5f89ec93-4395-42a0-8ea7-2bec18f8c8c5",
   "metadata": {},
   "outputs": [
    {
     "data": {
      "text/plain": [
       "array([ 5, 11, 13, 12])"
      ]
     },
     "execution_count": 5,
     "metadata": {},
     "output_type": "execute_result"
    }
   ],
   "source": [
    "# Addition\n",
    "u + v"
   ]
  },
  {
   "cell_type": "code",
   "execution_count": 6,
   "id": "2ca4cb05-1a09-4cfe-925f-501152b63c36",
   "metadata": {},
   "outputs": [
    {
     "data": {
      "text/plain": [
       "array([-1,  3, -3,  0])"
      ]
     },
     "execution_count": 6,
     "metadata": {},
     "output_type": "execute_result"
    }
   ],
   "source": [
    "# Subtraction\n",
    "u - v"
   ]
  },
  {
   "cell_type": "code",
   "execution_count": 7,
   "id": "0dd51689-a3cd-42f0-9825-b11dd6003a8e",
   "metadata": {},
   "outputs": [
    {
     "data": {
      "text/plain": [
       "array([ 6,  8, 16, 12])"
      ]
     },
     "execution_count": 7,
     "metadata": {},
     "output_type": "execute_result"
    }
   ],
   "source": [
    "# Scalar Multiplication\n",
    "2 * v"
   ]
  },
  {
   "cell_type": "code",
   "execution_count": 8,
   "id": "449cbc28-2b38-46d5-9556-d76a19b0618b",
   "metadata": {},
   "outputs": [],
   "source": [
    "# Multiplication"
   ]
  },
  {
   "cell_type": "code",
   "execution_count": 9,
   "id": "1c2af428-5207-45ec-881c-ddb12b0d0b90",
   "metadata": {},
   "outputs": [],
   "source": [
    "# Vector-Vector Multiplication\n",
    "def vector_vector_multiplication(u,v):\n",
    "    assert u.shape[0] == v.shape[0]\n",
    "    \n",
    "    n = u.shape[0]\n",
    "    \n",
    "    result = 0.0\n",
    "    \n",
    "    for i in range(n):\n",
    "        result = result + u[i] * v[i]"
   ]
  },
  {
   "cell_type": "code",
   "execution_count": 10,
   "id": "1d397f59-89b9-417a-a176-ad23b05c12f8",
   "metadata": {},
   "outputs": [],
   "source": [
    "# Matrix-Vector Multiplication\n",
    "\n",
    "def matrix_vector_multiplication(U,v):\n",
    "    assert U.shape[1] == v.shap[0]\n",
    "    \n",
    "    num_rows = U.shape[0]\n",
    "    \n",
    "    result = np.zeros(num_rows)\n",
    "    \n",
    "    for i in range(num_rows):\n",
    "        result[i] = vector_vector_multiplication(U[i],v)\n",
    "        \n",
    "    return result"
   ]
  },
  {
   "cell_type": "code",
   "execution_count": 11,
   "id": "4bddbb90-b966-4f2e-9d98-0ea3509ca84c",
   "metadata": {},
   "outputs": [],
   "source": [
    "# Matrix-Matrix Multiplication\n",
    "\n",
    "def matrix_matrix_multiplication(U,V):\n",
    "    assert U.shape[1] -- V.shape[0]\n",
    "    \n",
    "    num_rows = U.shape[0]\n",
    "    num_cols = V.shape[1]\n",
    "    \n",
    "    result = np.zeros((num_rows, num_cols))\n",
    "    \n",
    "    for i in range(num_cols):\n",
    "        vi = V[:, i]\n",
    "        Uvi = matrix_vector_multiplication(U, vi)\n",
    "        result[:, i] = Uvi\n",
    "        \n",
    "    return result"
   ]
  },
  {
   "cell_type": "code",
   "execution_count": 12,
   "id": "db225922-62ff-41d7-85ed-b1cf29f2480e",
   "metadata": {},
   "outputs": [],
   "source": [
    "# Identity Matrix\n",
    "\n",
    "I = np.eye(3)"
   ]
  },
  {
   "cell_type": "code",
   "execution_count": 13,
   "id": "45072a34-7db2-484f-985f-f7fe0c94df75",
   "metadata": {},
   "outputs": [],
   "source": [
    "# Inverse\n",
    "\n",
    "V = np.array([\n",
    "    [1, 1, 2],\n",
    "    [0, 0.5, 1],\n",
    "    [0, 2, 1],\n",
    "])\n",
    "inv = np.linalg.inv(V)"
   ]
  },
  {
   "cell_type": "code",
   "execution_count": null,
   "id": "04743144-b853-4987-bafc-511cb7e06451",
   "metadata": {},
   "outputs": [],
   "source": []
  }
 ],
 "metadata": {
  "kernelspec": {
   "display_name": "Python 3 (ipykernel)",
   "language": "python",
   "name": "python3"
  },
  "language_info": {
   "codemirror_mode": {
    "name": "ipython",
    "version": 3
   },
   "file_extension": ".py",
   "mimetype": "text/x-python",
   "name": "python",
   "nbconvert_exporter": "python",
   "pygments_lexer": "ipython3",
   "version": "3.9.12"
  }
 },
 "nbformat": 4,
 "nbformat_minor": 5
}
