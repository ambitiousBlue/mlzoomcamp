{
  "nbformat": 4,
  "nbformat_minor": 0,
  "metadata": {
    "colab": {
      "provenance": [],
      "toc_visible": true
    },
    "kernelspec": {
      "name": "python3",
      "display_name": "Python 3"
    },
    "language_info": {
      "name": "python"
    }
  },
  "cells": [
    {
      "cell_type": "markdown",
      "source": [
        "# Import Libraries"
      ],
      "metadata": {
        "id": "eySRDQJwZWYn"
      }
    },
    {
      "cell_type": "code",
      "execution_count": 1,
      "metadata": {
        "id": "IFbtRi3t__70"
      },
      "outputs": [],
      "source": [
        "# Import Libraries\n",
        "import pandas as pd # Import Pandas library\n",
        "import numpy as np # Import NumPy library\n",
        "\n",
        "import seaborn as sns # Import Seaborn\n",
        "from matplotlib import pyplot as pyplot # Import Plotting tools\n",
        "%matplotlib inline"
      ]
    },
    {
      "cell_type": "code",
      "source": [],
      "metadata": {
        "id": "fe37mKSoZYwk"
      },
      "execution_count": 1,
      "outputs": []
    },
    {
      "cell_type": "markdown",
      "source": [
        "# Dataset"
      ],
      "metadata": {
        "id": "ahyeV8Q5A_fd"
      }
    },
    {
      "cell_type": "code",
      "source": [
        "# Input the data from the URL.\n",
        "data = 'https://raw.githubusercontent.com/alexeygrigorev/datasets/master/housing.csv'"
      ],
      "metadata": {
        "id": "Hcg8SjMrEIU5"
      },
      "execution_count": 2,
      "outputs": []
    },
    {
      "cell_type": "code",
      "source": [
        "!wget $data # Get the data."
      ],
      "metadata": {
        "colab": {
          "base_uri": "https://localhost:8080/"
        },
        "id": "Zi0KeJt9ERCk",
        "outputId": "23d268b7-e16d-4859-e277-c069c369a2c1"
      },
      "execution_count": 3,
      "outputs": [
        {
          "output_type": "stream",
          "name": "stdout",
          "text": [
            "--2022-09-20 03:01:39--  https://raw.githubusercontent.com/alexeygrigorev/datasets/master/housing.csv\n",
            "Resolving raw.githubusercontent.com (raw.githubusercontent.com)... 185.199.108.133, 185.199.109.133, 185.199.110.133, ...\n",
            "Connecting to raw.githubusercontent.com (raw.githubusercontent.com)|185.199.108.133|:443... connected.\n",
            "HTTP request sent, awaiting response... 200 OK\n",
            "Length: 1423529 (1.4M) [text/plain]\n",
            "Saving to: ‘housing.csv’\n",
            "\n",
            "\rhousing.csv           0%[                    ]       0  --.-KB/s               \rhousing.csv         100%[===================>]   1.36M  --.-KB/s    in 0.02s   \n",
            "\n",
            "2022-09-20 03:01:39 (56.8 MB/s) - ‘housing.csv’ saved [1423529/1423529]\n",
            "\n"
          ]
        }
      ]
    },
    {
      "cell_type": "code",
      "source": [],
      "metadata": {
        "id": "J0szHOD2ZXrH"
      },
      "execution_count": 3,
      "outputs": []
    },
    {
      "cell_type": "markdown",
      "source": [
        "# Exploratory Data Analysis (EDA)"
      ],
      "metadata": {
        "id": "MwCE6EBtBCdK"
      }
    },
    {
      "cell_type": "code",
      "source": [
        "df = pd.read_csv('housing.csv') # Load the data using the read_csv command; store\n",
        "# as a dataframe. Make sure to input the correct file name in the argument."
      ],
      "metadata": {
        "id": "2VDITDKOE2aa"
      },
      "execution_count": 4,
      "outputs": []
    },
    {
      "cell_type": "code",
      "source": [
        "df.head() # View first 5 rows of the dataframe."
      ],
      "metadata": {
        "colab": {
          "base_uri": "https://localhost:8080/",
          "height": 0
        },
        "id": "e636M9l5FRlP",
        "outputId": "286e5320-189e-40bb-db1b-52d0e764c281"
      },
      "execution_count": 5,
      "outputs": [
        {
          "output_type": "execute_result",
          "data": {
            "text/plain": [
              "   longitude  latitude  housing_median_age  total_rooms  total_bedrooms  \\\n",
              "0    -122.23     37.88                41.0        880.0           129.0   \n",
              "1    -122.22     37.86                21.0       7099.0          1106.0   \n",
              "2    -122.24     37.85                52.0       1467.0           190.0   \n",
              "3    -122.25     37.85                52.0       1274.0           235.0   \n",
              "4    -122.25     37.85                52.0       1627.0           280.0   \n",
              "\n",
              "   population  households  median_income  median_house_value ocean_proximity  \n",
              "0       322.0       126.0         8.3252            452600.0        NEAR BAY  \n",
              "1      2401.0      1138.0         8.3014            358500.0        NEAR BAY  \n",
              "2       496.0       177.0         7.2574            352100.0        NEAR BAY  \n",
              "3       558.0       219.0         5.6431            341300.0        NEAR BAY  \n",
              "4       565.0       259.0         3.8462            342200.0        NEAR BAY  "
            ],
            "text/html": [
              "\n",
              "  <div id=\"df-8db197ee-b226-42f9-b2e8-5428938389b3\">\n",
              "    <div class=\"colab-df-container\">\n",
              "      <div>\n",
              "<style scoped>\n",
              "    .dataframe tbody tr th:only-of-type {\n",
              "        vertical-align: middle;\n",
              "    }\n",
              "\n",
              "    .dataframe tbody tr th {\n",
              "        vertical-align: top;\n",
              "    }\n",
              "\n",
              "    .dataframe thead th {\n",
              "        text-align: right;\n",
              "    }\n",
              "</style>\n",
              "<table border=\"1\" class=\"dataframe\">\n",
              "  <thead>\n",
              "    <tr style=\"text-align: right;\">\n",
              "      <th></th>\n",
              "      <th>longitude</th>\n",
              "      <th>latitude</th>\n",
              "      <th>housing_median_age</th>\n",
              "      <th>total_rooms</th>\n",
              "      <th>total_bedrooms</th>\n",
              "      <th>population</th>\n",
              "      <th>households</th>\n",
              "      <th>median_income</th>\n",
              "      <th>median_house_value</th>\n",
              "      <th>ocean_proximity</th>\n",
              "    </tr>\n",
              "  </thead>\n",
              "  <tbody>\n",
              "    <tr>\n",
              "      <th>0</th>\n",
              "      <td>-122.23</td>\n",
              "      <td>37.88</td>\n",
              "      <td>41.0</td>\n",
              "      <td>880.0</td>\n",
              "      <td>129.0</td>\n",
              "      <td>322.0</td>\n",
              "      <td>126.0</td>\n",
              "      <td>8.3252</td>\n",
              "      <td>452600.0</td>\n",
              "      <td>NEAR BAY</td>\n",
              "    </tr>\n",
              "    <tr>\n",
              "      <th>1</th>\n",
              "      <td>-122.22</td>\n",
              "      <td>37.86</td>\n",
              "      <td>21.0</td>\n",
              "      <td>7099.0</td>\n",
              "      <td>1106.0</td>\n",
              "      <td>2401.0</td>\n",
              "      <td>1138.0</td>\n",
              "      <td>8.3014</td>\n",
              "      <td>358500.0</td>\n",
              "      <td>NEAR BAY</td>\n",
              "    </tr>\n",
              "    <tr>\n",
              "      <th>2</th>\n",
              "      <td>-122.24</td>\n",
              "      <td>37.85</td>\n",
              "      <td>52.0</td>\n",
              "      <td>1467.0</td>\n",
              "      <td>190.0</td>\n",
              "      <td>496.0</td>\n",
              "      <td>177.0</td>\n",
              "      <td>7.2574</td>\n",
              "      <td>352100.0</td>\n",
              "      <td>NEAR BAY</td>\n",
              "    </tr>\n",
              "    <tr>\n",
              "      <th>3</th>\n",
              "      <td>-122.25</td>\n",
              "      <td>37.85</td>\n",
              "      <td>52.0</td>\n",
              "      <td>1274.0</td>\n",
              "      <td>235.0</td>\n",
              "      <td>558.0</td>\n",
              "      <td>219.0</td>\n",
              "      <td>5.6431</td>\n",
              "      <td>341300.0</td>\n",
              "      <td>NEAR BAY</td>\n",
              "    </tr>\n",
              "    <tr>\n",
              "      <th>4</th>\n",
              "      <td>-122.25</td>\n",
              "      <td>37.85</td>\n",
              "      <td>52.0</td>\n",
              "      <td>1627.0</td>\n",
              "      <td>280.0</td>\n",
              "      <td>565.0</td>\n",
              "      <td>259.0</td>\n",
              "      <td>3.8462</td>\n",
              "      <td>342200.0</td>\n",
              "      <td>NEAR BAY</td>\n",
              "    </tr>\n",
              "  </tbody>\n",
              "</table>\n",
              "</div>\n",
              "      <button class=\"colab-df-convert\" onclick=\"convertToInteractive('df-8db197ee-b226-42f9-b2e8-5428938389b3')\"\n",
              "              title=\"Convert this dataframe to an interactive table.\"\n",
              "              style=\"display:none;\">\n",
              "        \n",
              "  <svg xmlns=\"http://www.w3.org/2000/svg\" height=\"24px\"viewBox=\"0 0 24 24\"\n",
              "       width=\"24px\">\n",
              "    <path d=\"M0 0h24v24H0V0z\" fill=\"none\"/>\n",
              "    <path d=\"M18.56 5.44l.94 2.06.94-2.06 2.06-.94-2.06-.94-.94-2.06-.94 2.06-2.06.94zm-11 1L8.5 8.5l.94-2.06 2.06-.94-2.06-.94L8.5 2.5l-.94 2.06-2.06.94zm10 10l.94 2.06.94-2.06 2.06-.94-2.06-.94-.94-2.06-.94 2.06-2.06.94z\"/><path d=\"M17.41 7.96l-1.37-1.37c-.4-.4-.92-.59-1.43-.59-.52 0-1.04.2-1.43.59L10.3 9.45l-7.72 7.72c-.78.78-.78 2.05 0 2.83L4 21.41c.39.39.9.59 1.41.59.51 0 1.02-.2 1.41-.59l7.78-7.78 2.81-2.81c.8-.78.8-2.07 0-2.86zM5.41 20L4 18.59l7.72-7.72 1.47 1.35L5.41 20z\"/>\n",
              "  </svg>\n",
              "      </button>\n",
              "      \n",
              "  <style>\n",
              "    .colab-df-container {\n",
              "      display:flex;\n",
              "      flex-wrap:wrap;\n",
              "      gap: 12px;\n",
              "    }\n",
              "\n",
              "    .colab-df-convert {\n",
              "      background-color: #E8F0FE;\n",
              "      border: none;\n",
              "      border-radius: 50%;\n",
              "      cursor: pointer;\n",
              "      display: none;\n",
              "      fill: #1967D2;\n",
              "      height: 32px;\n",
              "      padding: 0 0 0 0;\n",
              "      width: 32px;\n",
              "    }\n",
              "\n",
              "    .colab-df-convert:hover {\n",
              "      background-color: #E2EBFA;\n",
              "      box-shadow: 0px 1px 2px rgba(60, 64, 67, 0.3), 0px 1px 3px 1px rgba(60, 64, 67, 0.15);\n",
              "      fill: #174EA6;\n",
              "    }\n",
              "\n",
              "    [theme=dark] .colab-df-convert {\n",
              "      background-color: #3B4455;\n",
              "      fill: #D2E3FC;\n",
              "    }\n",
              "\n",
              "    [theme=dark] .colab-df-convert:hover {\n",
              "      background-color: #434B5C;\n",
              "      box-shadow: 0px 1px 3px 1px rgba(0, 0, 0, 0.15);\n",
              "      filter: drop-shadow(0px 1px 2px rgba(0, 0, 0, 0.3));\n",
              "      fill: #FFFFFF;\n",
              "    }\n",
              "  </style>\n",
              "\n",
              "      <script>\n",
              "        const buttonEl =\n",
              "          document.querySelector('#df-8db197ee-b226-42f9-b2e8-5428938389b3 button.colab-df-convert');\n",
              "        buttonEl.style.display =\n",
              "          google.colab.kernel.accessAllowed ? 'block' : 'none';\n",
              "\n",
              "        async function convertToInteractive(key) {\n",
              "          const element = document.querySelector('#df-8db197ee-b226-42f9-b2e8-5428938389b3');\n",
              "          const dataTable =\n",
              "            await google.colab.kernel.invokeFunction('convertToInteractive',\n",
              "                                                     [key], {});\n",
              "          if (!dataTable) return;\n",
              "\n",
              "          const docLinkHtml = 'Like what you see? Visit the ' +\n",
              "            '<a target=\"_blank\" href=https://colab.research.google.com/notebooks/data_table.ipynb>data table notebook</a>'\n",
              "            + ' to learn more about interactive tables.';\n",
              "          element.innerHTML = '';\n",
              "          dataTable['output_type'] = 'display_data';\n",
              "          await google.colab.output.renderOutput(dataTable, element);\n",
              "          const docLink = document.createElement('div');\n",
              "          docLink.innerHTML = docLinkHtml;\n",
              "          element.appendChild(docLink);\n",
              "        }\n",
              "      </script>\n",
              "    </div>\n",
              "  </div>\n",
              "  "
            ]
          },
          "metadata": {},
          "execution_count": 5
        }
      ]
    },
    {
      "cell_type": "code",
      "source": [
        "df.shape # Size of the dataset."
      ],
      "metadata": {
        "colab": {
          "base_uri": "https://localhost:8080/"
        },
        "id": "fxc1oGtzFfyY",
        "outputId": "774767a4-0978-430a-a9a4-f0c786b954ed"
      },
      "execution_count": 6,
      "outputs": [
        {
          "output_type": "execute_result",
          "data": {
            "text/plain": [
              "(20640, 10)"
            ]
          },
          "metadata": {},
          "execution_count": 6
        }
      ]
    },
    {
      "cell_type": "code",
      "source": [
        "median_house_value = df['median_house_value'].median()\n",
        "median_house_value # Display"
      ],
      "metadata": {
        "colab": {
          "base_uri": "https://localhost:8080/"
        },
        "outputId": "23752146-6749-41d1-eb52-e178046dff94",
        "id": "2_wmzFRnZh5B"
      },
      "execution_count": 7,
      "outputs": [
        {
          "output_type": "execute_result",
          "data": {
            "text/plain": [
              "179700.0"
            ]
          },
          "metadata": {},
          "execution_count": 7
        }
      ]
    },
    {
      "cell_type": "code",
      "source": [
        "print(f\"Median (50th percentile) for the population variable is: {median_house_value}\") # Show median"
      ],
      "metadata": {
        "colab": {
          "base_uri": "https://localhost:8080/"
        },
        "outputId": "52452939-85f1-4af3-b44a-93fb81338e07",
        "id": "DIe0htZAZprF"
      },
      "execution_count": 8,
      "outputs": [
        {
          "output_type": "stream",
          "name": "stdout",
          "text": [
            "Median (50th percentile) for the population variable is: 179700.0\n"
          ]
        }
      ]
    },
    {
      "cell_type": "code",
      "source": [
        "sns.histplot(df.median_house_value) # Plots a histogram of the \n",
        "# median_house_value column."
      ],
      "metadata": {
        "colab": {
          "base_uri": "https://localhost:8080/",
          "height": 0
        },
        "id": "nF8ii7lBNQ7g",
        "outputId": "b7a7e585-145d-4726-e4f9-2667a67dcafc"
      },
      "execution_count": 9,
      "outputs": [
        {
          "output_type": "execute_result",
          "data": {
            "text/plain": [
              "<matplotlib.axes._subplots.AxesSubplot at 0x7f5359681710>"
            ]
          },
          "metadata": {},
          "execution_count": 9
        },
        {
          "output_type": "display_data",
          "data": {
            "text/plain": [
              "<Figure size 432x288 with 1 Axes>"
            ],
            "image/png": "[encoded data removed]"
          },
          "metadata": {
            "needs_background": "light"
          }
        }
      ]
    },
    {
      "cell_type": "code",
      "source": [],
      "metadata": {
        "id": "4bi-eqa_OIN1"
      },
      "execution_count": 9,
      "outputs": []
    },
    {
      "cell_type": "markdown",
      "source": [
        "# **Question 1: Feature with Missing Values**"
      ],
      "metadata": {
        "id": "bbs7KIQOBJW8"
      }
    },
    {
      "cell_type": "code",
      "source": [
        "df = df.drop('ocean_proximity',axis = 1) # Remove the ocean_proximity column;\n",
        "# store as df to generate new dataframe."
      ],
      "metadata": {
        "id": "9AR4Do_WOYWF"
      },
      "execution_count": 10,
      "outputs": []
    },
    {
      "cell_type": "code",
      "source": [
        "columns = df.columns # Return columns for dataframe\n",
        "columns # Display columns"
      ],
      "metadata": {
        "colab": {
          "base_uri": "https://localhost:8080/"
        },
        "id": "X9agdNKIOYw6",
        "outputId": "f0bd5287-c850-4a98-e11a-01ea7fededfe"
      },
      "execution_count": 11,
      "outputs": [
        {
          "output_type": "execute_result",
          "data": {
            "text/plain": [
              "Index(['longitude', 'latitude', 'housing_median_age', 'total_rooms',\n",
              "       'total_bedrooms', 'population', 'households', 'median_income',\n",
              "       'median_house_value'],\n",
              "      dtype='object')"
            ]
          },
          "metadata": {},
          "execution_count": 11
        }
      ]
    },
    {
      "cell_type": "code",
      "source": [
        "df.info() # Display the dataframe to verify dropped column."
      ],
      "metadata": {
        "colab": {
          "base_uri": "https://localhost:8080/"
        },
        "id": "vRkpion8OZbC",
        "outputId": "0caa717e-9949-400e-9587-e77a04476639"
      },
      "execution_count": 12,
      "outputs": [
        {
          "output_type": "stream",
          "name": "stdout",
          "text": [
            "<class 'pandas.core.frame.DataFrame'>\n",
            "RangeIndex: 20640 entries, 0 to 20639\n",
            "Data columns (total 9 columns):\n",
            " #   Column              Non-Null Count  Dtype  \n",
            "---  ------              --------------  -----  \n",
            " 0   longitude           20640 non-null  float64\n",
            " 1   latitude            20640 non-null  float64\n",
            " 2   housing_median_age  20640 non-null  float64\n",
            " 3   total_rooms         20640 non-null  float64\n",
            " 4   total_bedrooms      20433 non-null  float64\n",
            " 5   population          20640 non-null  float64\n",
            " 6   households          20640 non-null  float64\n",
            " 7   median_income       20640 non-null  float64\n",
            " 8   median_house_value  20640 non-null  float64\n",
            "dtypes: float64(9)\n",
            "memory usage: 1.4 MB\n"
          ]
        }
      ]
    },
    {
      "cell_type": "code",
      "source": [
        "check_nulls = df.isnull().sum() # Displays all columns; global check for\n",
        "# missing values; displays as check_nulls\n",
        "check_nulls # Display"
      ],
      "metadata": {
        "colab": {
          "base_uri": "https://localhost:8080/"
        },
        "id": "ImzuKhnrQVgk",
        "outputId": "10bef9e1-d11c-4f80-9177-c4fe86bd0c67"
      },
      "execution_count": 13,
      "outputs": [
        {
          "output_type": "execute_result",
          "data": {
            "text/plain": [
              "longitude               0\n",
              "latitude                0\n",
              "housing_median_age      0\n",
              "total_rooms             0\n",
              "total_bedrooms        207\n",
              "population              0\n",
              "households              0\n",
              "median_income           0\n",
              "median_house_value      0\n",
              "dtype: int64"
            ]
          },
          "metadata": {},
          "execution_count": 13
        }
      ]
    },
    {
      "cell_type": "markdown",
      "source": [
        "## Question 1 Solution:"
      ],
      "metadata": {
        "id": "CgAy76KkbuDr"
      }
    },
    {
      "cell_type": "code",
      "source": [
        "missing_values = df.isnull().sum()[df.isnull().sum() > 0] # Filters out columns\n",
        "# without missing values; displays only columns with missing values; stored\n",
        "# as missing_values\n",
        "missing_values # Display"
      ],
      "metadata": {
        "colab": {
          "base_uri": "https://localhost:8080/"
        },
        "id": "7TfSt5bdPi9n",
        "outputId": "6b597a7b-7fb7-44bc-dfc1-d03cf90681ea"
      },
      "execution_count": 14,
      "outputs": [
        {
          "output_type": "execute_result",
          "data": {
            "text/plain": [
              "total_bedrooms    207\n",
              "dtype: int64"
            ]
          },
          "metadata": {},
          "execution_count": 14
        }
      ]
    },
    {
      "cell_type": "code",
      "source": [],
      "metadata": {
        "id": "Mqg2Wgv1Piv2"
      },
      "execution_count": 14,
      "outputs": []
    },
    {
      "cell_type": "markdown",
      "source": [
        "# **Question 2: Median for the Population Variable**"
      ],
      "metadata": {
        "id": "2Tn-8RdEBOHh"
      }
    },
    {
      "cell_type": "code",
      "source": [
        "median_house_value = df['median_house_value'].median()\n",
        "median_house_value # Display"
      ],
      "metadata": {
        "colab": {
          "base_uri": "https://localhost:8080/"
        },
        "id": "fKfeXYzwF1_C",
        "outputId": "07d6807f-2b9e-4066-c52e-ce7cfc2c437f"
      },
      "execution_count": 15,
      "outputs": [
        {
          "output_type": "execute_result",
          "data": {
            "text/plain": [
              "179700.0"
            ]
          },
          "metadata": {},
          "execution_count": 15
        }
      ]
    },
    {
      "cell_type": "code",
      "source": [
        "print(f\"Median (50th percentile) for the population variable is: {median_house_value}\") # Show median"
      ],
      "metadata": {
        "colab": {
          "base_uri": "https://localhost:8080/"
        },
        "id": "LDMQ2PpKMw_3",
        "outputId": "e0b97097-9261-4d66-9461-c4572290cd12"
      },
      "execution_count": 16,
      "outputs": [
        {
          "output_type": "stream",
          "name": "stdout",
          "text": [
            "Median (50th percentile) for the population variable is: 179700.0\n"
          ]
        }
      ]
    },
    {
      "cell_type": "markdown",
      "source": [
        "## Question 2 Solution:"
      ],
      "metadata": {
        "id": "hLpg3r4jbgcc"
      }
    },
    {
      "cell_type": "code",
      "source": [
        "median_population = df['population'].median()\n",
        "median_population # Display"
      ],
      "metadata": {
        "colab": {
          "base_uri": "https://localhost:8080/"
        },
        "id": "SwT-wIJASLco",
        "outputId": "c896c263-633b-4992-d0c5-d274d37f11f8"
      },
      "execution_count": 17,
      "outputs": [
        {
          "output_type": "execute_result",
          "data": {
            "text/plain": [
              "1166.0"
            ]
          },
          "metadata": {},
          "execution_count": 17
        }
      ]
    },
    {
      "cell_type": "code",
      "source": [],
      "metadata": {
        "id": "r9DelxSbZUF_"
      },
      "execution_count": 17,
      "outputs": []
    },
    {
      "cell_type": "markdown",
      "source": [
        "## Shuffle Dataset - Seed 42"
      ],
      "metadata": {
        "id": "0xROI_vyS67A"
      }
    },
    {
      "cell_type": "code",
      "source": [
        "np.random.seed(42) # Shuffle dataframe; seed 42"
      ],
      "metadata": {
        "id": "cnKJsJ66RFNz"
      },
      "execution_count": 18,
      "outputs": []
    },
    {
      "cell_type": "code",
      "source": [
        "n = len(df) # Length of the dataframe; stored as n.\n",
        "n # Display"
      ],
      "metadata": {
        "colab": {
          "base_uri": "https://localhost:8080/"
        },
        "id": "Zegw9AZbRFnP",
        "outputId": "6ec6963a-d0d8-4a83-f72f-b2b3243b2ad2"
      },
      "execution_count": 19,
      "outputs": [
        {
          "output_type": "execute_result",
          "data": {
            "text/plain": [
              "20640"
            ]
          },
          "metadata": {},
          "execution_count": 19
        }
      ]
    },
    {
      "cell_type": "code",
      "source": [],
      "metadata": {
        "id": "wBRh4K9CZTLS"
      },
      "execution_count": 19,
      "outputs": []
    },
    {
      "cell_type": "markdown",
      "source": [
        "## Split the Data"
      ],
      "metadata": {
        "id": "ZbuVOARxVUC_"
      }
    },
    {
      "cell_type": "code",
      "source": [
        "n_val = int(n * 0.2) # Validation data; 20% of the total n; stored as n_val\n",
        "n_val # Display"
      ],
      "metadata": {
        "colab": {
          "base_uri": "https://localhost:8080/"
        },
        "id": "HMby7qFKT4GK",
        "outputId": "dfaf32a8-2ea9-481c-e34e-7f098bdc9631"
      },
      "execution_count": 20,
      "outputs": [
        {
          "output_type": "execute_result",
          "data": {
            "text/plain": [
              "4128"
            ]
          },
          "metadata": {},
          "execution_count": 20
        }
      ]
    },
    {
      "cell_type": "code",
      "source": [
        "n_test = int(n * 0.2) # Test data; 20% of the total n; stored as n_test\n",
        "n_test # Display"
      ],
      "metadata": {
        "colab": {
          "base_uri": "https://localhost:8080/"
        },
        "id": "q8prRP55ULme",
        "outputId": "69e83eb7-ac8a-46f9-d6b9-27d2e6c17d4a"
      },
      "execution_count": 21,
      "outputs": [
        {
          "output_type": "execute_result",
          "data": {
            "text/plain": [
              "4128"
            ]
          },
          "metadata": {},
          "execution_count": 21
        }
      ]
    },
    {
      "cell_type": "code",
      "source": [
        "n_train = int(n - n_val - n_test) # Training data equals the difference between\n",
        "# entire data set, with n_val and n_test subtracted from total dataset; stored\n",
        "# as n_train.\n",
        "n_train # Display"
      ],
      "metadata": {
        "colab": {
          "base_uri": "https://localhost:8080/"
        },
        "id": "Xq8eLwRrUV1w",
        "outputId": "09008270-c093-4de0-ffe8-3f6d8be3a2c8"
      },
      "execution_count": 22,
      "outputs": [
        {
          "output_type": "execute_result",
          "data": {
            "text/plain": [
              "12384"
            ]
          },
          "metadata": {},
          "execution_count": 22
        }
      ]
    },
    {
      "cell_type": "code",
      "source": [
        "n, n_train + n_val + n_test # Sanity check"
      ],
      "metadata": {
        "colab": {
          "base_uri": "https://localhost:8080/"
        },
        "id": "4GfnSEHNUquw",
        "outputId": "ba40ee87-7541-4c01-9769-dd7a7612e30a"
      },
      "execution_count": 23,
      "outputs": [
        {
          "output_type": "execute_result",
          "data": {
            "text/plain": [
              "(20640, 20640)"
            ]
          },
          "metadata": {},
          "execution_count": 23
        }
      ]
    },
    {
      "cell_type": "code",
      "source": [],
      "metadata": {
        "id": "FCrW2sSBZRjA"
      },
      "execution_count": 23,
      "outputs": []
    },
    {
      "cell_type": "markdown",
      "source": [
        "## Shuffle Dataframe"
      ],
      "metadata": {
        "id": "mNu79m8hWK_4"
      }
    },
    {
      "cell_type": "code",
      "source": [
        "idx = np.arange(n) # Generates an array of numbers from 1 to (n - 1); uses NumPy \n",
        "# function called arange; stored as idx (short for index).\n",
        "idx # Display"
      ],
      "metadata": {
        "colab": {
          "base_uri": "https://localhost:8080/"
        },
        "id": "CuxsRRAxVnDZ",
        "outputId": "a6341785-5945-4768-97c8-cf8335920ff9"
      },
      "execution_count": 24,
      "outputs": [
        {
          "output_type": "execute_result",
          "data": {
            "text/plain": [
              "array([    0,     1,     2, ..., 20637, 20638, 20639])"
            ]
          },
          "metadata": {},
          "execution_count": 24
        }
      ]
    },
    {
      "cell_type": "code",
      "source": [
        "np.random.seed(42) # Establish a reproduceable shuffle\n",
        "np.random.shuffle(idx) # Shuffle the index.\n",
        "idx # Display"
      ],
      "metadata": {
        "colab": {
          "base_uri": "https://localhost:8080/"
        },
        "id": "OjoYJ48cVm4r",
        "outputId": "616d45f8-dd01-4b5e-d2b7-8fbc951d17b7"
      },
      "execution_count": 25,
      "outputs": [
        {
          "output_type": "execute_result",
          "data": {
            "text/plain": [
              "array([20046,  3024, 15663, ...,  5390,   860, 15795])"
            ]
          },
          "metadata": {},
          "execution_count": 25
        }
      ]
    },
    {
      "cell_type": "code",
      "source": [
        "df_train = df.iloc[idx[:n_train]] # Locks the beginning 12,384 indexes in the\n",
        " # newly-shuffled index; stored as df_train.\n",
        "df_val = df.iloc[idx[n_train:n_train + n_val]] # Locks the next 4,128 indexes up \n",
        " # to the test dataframe; stored as df_val.\n",
        "df_test = df.iloc[idx[n_train + n_val:]] # Locks the remaining 4,128 indexes in \n",
        "# the dataframe; stored as df_test."
      ],
      "metadata": {
        "id": "zkCzQrsbVmpJ"
      },
      "execution_count": 26,
      "outputs": []
    },
    {
      "cell_type": "code",
      "source": [
        "df_train.head() # Display shuffled training dataframe"
      ],
      "metadata": {
        "colab": {
          "base_uri": "https://localhost:8080/",
          "height": 270
        },
        "id": "vRXhMXpkYROV",
        "outputId": "ead2f2e3-afa5-417e-818b-888430f34ab6"
      },
      "execution_count": 27,
      "outputs": [
        {
          "output_type": "execute_result",
          "data": {
            "text/plain": [
              "       longitude  latitude  housing_median_age  total_rooms  total_bedrooms  \\\n",
              "20046    -119.01     36.06                25.0       1505.0             NaN   \n",
              "3024     -119.46     35.14                30.0       2943.0             NaN   \n",
              "15663    -122.44     37.80                52.0       3830.0             NaN   \n",
              "20484    -118.72     34.28                17.0       3051.0             NaN   \n",
              "9814     -121.93     36.62                34.0       2351.0             NaN   \n",
              "\n",
              "       population  households  median_income  median_house_value  \n",
              "20046      1392.0       359.0         1.6812             47700.0  \n",
              "3024       1565.0       584.0         2.5313             45800.0  \n",
              "15663      1310.0       963.0         3.4801            500001.0  \n",
              "20484      1705.0       495.0         5.7376            218600.0  \n",
              "9814       1063.0       428.0         3.7250            278000.0  "
            ],
            "text/html": [
              "\n",
              "  <div id=\"df-444177f8-af2b-4b2c-beba-3671e293f57a\">\n",
              "    <div class=\"colab-df-container\">\n",
              "      <div>\n",
              "<style scoped>\n",
              "    .dataframe tbody tr th:only-of-type {\n",
              "        vertical-align: middle;\n",
              "    }\n",
              "\n",
              "    .dataframe tbody tr th {\n",
              "        vertical-align: top;\n",
              "    }\n",
              "\n",
              "    .dataframe thead th {\n",
              "        text-align: right;\n",
              "    }\n",
              "</style>\n",
              "<table border=\"1\" class=\"dataframe\">\n",
              "  <thead>\n",
              "    <tr style=\"text-align: right;\">\n",
              "      <th></th>\n",
              "      <th>longitude</th>\n",
              "      <th>latitude</th>\n",
              "      <th>housing_median_age</th>\n",
              "      <th>total_rooms</th>\n",
              "      <th>total_bedrooms</th>\n",
              "      <th>population</th>\n",
              "      <th>households</th>\n",
              "      <th>median_income</th>\n",
              "      <th>median_house_value</th>\n",
              "    </tr>\n",
              "  </thead>\n",
              "  <tbody>\n",
              "    <tr>\n",
              "      <th>20046</th>\n",
              "      <td>-119.01</td>\n",
              "      <td>36.06</td>\n",
              "      <td>25.0</td>\n",
              "      <td>1505.0</td>\n",
              "      <td>NaN</td>\n",
              "      <td>1392.0</td>\n",
              "      <td>359.0</td>\n",
              "      <td>1.6812</td>\n",
              "      <td>47700.0</td>\n",
              "    </tr>\n",
              "    <tr>\n",
              "      <th>3024</th>\n",
              "      <td>-119.46</td>\n",
              "      <td>35.14</td>\n",
              "      <td>30.0</td>\n",
              "      <td>2943.0</td>\n",
              "      <td>NaN</td>\n",
              "      <td>1565.0</td>\n",
              "      <td>584.0</td>\n",
              "      <td>2.5313</td>\n",
              "      <td>45800.0</td>\n",
              "    </tr>\n",
              "    <tr>\n",
              "      <th>15663</th>\n",
              "      <td>-122.44</td>\n",
              "      <td>37.80</td>\n",
              "      <td>52.0</td>\n",
              "      <td>3830.0</td>\n",
              "      <td>NaN</td>\n",
              "      <td>1310.0</td>\n",
              "      <td>963.0</td>\n",
              "      <td>3.4801</td>\n",
              "      <td>500001.0</td>\n",
              "    </tr>\n",
              "    <tr>\n",
              "      <th>20484</th>\n",
              "      <td>-118.72</td>\n",
              "      <td>34.28</td>\n",
              "      <td>17.0</td>\n",
              "      <td>3051.0</td>\n",
              "      <td>NaN</td>\n",
              "      <td>1705.0</td>\n",
              "      <td>495.0</td>\n",
              "      <td>5.7376</td>\n",
              "      <td>218600.0</td>\n",
              "    </tr>\n",
              "    <tr>\n",
              "      <th>9814</th>\n",
              "      <td>-121.93</td>\n",
              "      <td>36.62</td>\n",
              "      <td>34.0</td>\n",
              "      <td>2351.0</td>\n",
              "      <td>NaN</td>\n",
              "      <td>1063.0</td>\n",
              "      <td>428.0</td>\n",
              "      <td>3.7250</td>\n",
              "      <td>278000.0</td>\n",
              "    </tr>\n",
              "  </tbody>\n",
              "</table>\n",
              "</div>\n",
              "      <button class=\"colab-df-convert\" onclick=\"convertToInteractive('df-444177f8-af2b-4b2c-beba-3671e293f57a')\"\n",
              "              title=\"Convert this dataframe to an interactive table.\"\n",
              "              style=\"display:none;\">\n",
              "        \n",
              "  <svg xmlns=\"http://www.w3.org/2000/svg\" height=\"24px\"viewBox=\"0 0 24 24\"\n",
              "       width=\"24px\">\n",
              "    <path d=\"M0 0h24v24H0V0z\" fill=\"none\"/>\n",
              "    <path d=\"M18.56 5.44l.94 2.06.94-2.06 2.06-.94-2.06-.94-.94-2.06-.94 2.06-2.06.94zm-11 1L8.5 8.5l.94-2.06 2.06-.94-2.06-.94L8.5 2.5l-.94 2.06-2.06.94zm10 10l.94 2.06.94-2.06 2.06-.94-2.06-.94-.94-2.06-.94 2.06-2.06.94z\"/><path d=\"M17.41 7.96l-1.37-1.37c-.4-.4-.92-.59-1.43-.59-.52 0-1.04.2-1.43.59L10.3 9.45l-7.72 7.72c-.78.78-.78 2.05 0 2.83L4 21.41c.39.39.9.59 1.41.59.51 0 1.02-.2 1.41-.59l7.78-7.78 2.81-2.81c.8-.78.8-2.07 0-2.86zM5.41 20L4 18.59l7.72-7.72 1.47 1.35L5.41 20z\"/>\n",
              "  </svg>\n",
              "      </button>\n",
              "      \n",
              "  <style>\n",
              "    .colab-df-container {\n",
              "      display:flex;\n",
              "      flex-wrap:wrap;\n",
              "      gap: 12px;\n",
              "    }\n",
              "\n",
              "    .colab-df-convert {\n",
              "      background-color: #E8F0FE;\n",
              "      border: none;\n",
              "      border-radius: 50%;\n",
              "      cursor: pointer;\n",
              "      display: none;\n",
              "      fill: #1967D2;\n",
              "      height: 32px;\n",
              "      padding: 0 0 0 0;\n",
              "      width: 32px;\n",
              "    }\n",
              "\n",
              "    .colab-df-convert:hover {\n",
              "      background-color: #E2EBFA;\n",
              "      box-shadow: 0px 1px 2px rgba(60, 64, 67, 0.3), 0px 1px 3px 1px rgba(60, 64, 67, 0.15);\n",
              "      fill: #174EA6;\n",
              "    }\n",
              "\n",
              "    [theme=dark] .colab-df-convert {\n",
              "      background-color: #3B4455;\n",
              "      fill: #D2E3FC;\n",
              "    }\n",
              "\n",
              "    [theme=dark] .colab-df-convert:hover {\n",
              "      background-color: #434B5C;\n",
              "      box-shadow: 0px 1px 3px 1px rgba(0, 0, 0, 0.15);\n",
              "      filter: drop-shadow(0px 1px 2px rgba(0, 0, 0, 0.3));\n",
              "      fill: #FFFFFF;\n",
              "    }\n",
              "  </style>\n",
              "\n",
              "      <script>\n",
              "        const buttonEl =\n",
              "          document.querySelector('#df-444177f8-af2b-4b2c-beba-3671e293f57a button.colab-df-convert');\n",
              "        buttonEl.style.display =\n",
              "          google.colab.kernel.accessAllowed ? 'block' : 'none';\n",
              "\n",
              "        async function convertToInteractive(key) {\n",
              "          const element = document.querySelector('#df-444177f8-af2b-4b2c-beba-3671e293f57a');\n",
              "          const dataTable =\n",
              "            await google.colab.kernel.invokeFunction('convertToInteractive',\n",
              "                                                     [key], {});\n",
              "          if (!dataTable) return;\n",
              "\n",
              "          const docLinkHtml = 'Like what you see? Visit the ' +\n",
              "            '<a target=\"_blank\" href=https://colab.research.google.com/notebooks/data_table.ipynb>data table notebook</a>'\n",
              "            + ' to learn more about interactive tables.';\n",
              "          element.innerHTML = '';\n",
              "          dataTable['output_type'] = 'display_data';\n",
              "          await google.colab.output.renderOutput(dataTable, element);\n",
              "          const docLink = document.createElement('div');\n",
              "          docLink.innerHTML = docLinkHtml;\n",
              "          element.appendChild(docLink);\n",
              "        }\n",
              "      </script>\n",
              "    </div>\n",
              "  </div>\n",
              "  "
            ]
          },
          "metadata": {},
          "execution_count": 27
        }
      ]
    },
    {
      "cell_type": "code",
      "source": [
        "df_val.head() # Display shuffled validation dataframe"
      ],
      "metadata": {
        "colab": {
          "base_uri": "https://localhost:8080/",
          "height": 270
        },
        "id": "iGsXYh6fYVEV",
        "outputId": "b6ab74fc-de10-4218-d323-1e546bc151a3"
      },
      "execution_count": 28,
      "outputs": [
        {
          "output_type": "execute_result",
          "data": {
            "text/plain": [
              "       longitude  latitude  housing_median_age  total_rooms  total_bedrooms  \\\n",
              "19660    -120.85     37.51                15.0       1131.0           285.0   \n",
              "4415     -118.25     34.09                52.0       1866.0           470.0   \n",
              "18113    -122.02     37.31                34.0       2629.0           433.0   \n",
              "17673    -121.88     37.30                16.0       2692.0           749.0   \n",
              "16992    -122.27     37.56                17.0       3211.0           847.0   \n",
              "\n",
              "       population  households  median_income  median_house_value  \n",
              "19660       728.0       281.0         1.5531             93100.0  \n",
              "4415       1211.0       417.0         2.9350            189400.0  \n",
              "18113      1301.0       431.0         6.0830            341400.0  \n",
              "17673      1674.0       681.0         2.6763            191100.0  \n",
              "16992      1553.0       812.0         4.9434            292100.0  "
            ],
            "text/html": [
              "\n",
              "  <div id=\"df-fb3345dd-e79f-4859-9290-77c117d22316\">\n",
              "    <div class=\"colab-df-container\">\n",
              "      <div>\n",
              "<style scoped>\n",
              "    .dataframe tbody tr th:only-of-type {\n",
              "        vertical-align: middle;\n",
              "    }\n",
              "\n",
              "    .dataframe tbody tr th {\n",
              "        vertical-align: top;\n",
              "    }\n",
              "\n",
              "    .dataframe thead th {\n",
              "        text-align: right;\n",
              "    }\n",
              "</style>\n",
              "<table border=\"1\" class=\"dataframe\">\n",
              "  <thead>\n",
              "    <tr style=\"text-align: right;\">\n",
              "      <th></th>\n",
              "      <th>longitude</th>\n",
              "      <th>latitude</th>\n",
              "      <th>housing_median_age</th>\n",
              "      <th>total_rooms</th>\n",
              "      <th>total_bedrooms</th>\n",
              "      <th>population</th>\n",
              "      <th>households</th>\n",
              "      <th>median_income</th>\n",
              "      <th>median_house_value</th>\n",
              "    </tr>\n",
              "  </thead>\n",
              "  <tbody>\n",
              "    <tr>\n",
              "      <th>19660</th>\n",
              "      <td>-120.85</td>\n",
              "      <td>37.51</td>\n",
              "      <td>15.0</td>\n",
              "      <td>1131.0</td>\n",
              "      <td>285.0</td>\n",
              "      <td>728.0</td>\n",
              "      <td>281.0</td>\n",
              "      <td>1.5531</td>\n",
              "      <td>93100.0</td>\n",
              "    </tr>\n",
              "    <tr>\n",
              "      <th>4415</th>\n",
              "      <td>-118.25</td>\n",
              "      <td>34.09</td>\n",
              "      <td>52.0</td>\n",
              "      <td>1866.0</td>\n",
              "      <td>470.0</td>\n",
              "      <td>1211.0</td>\n",
              "      <td>417.0</td>\n",
              "      <td>2.9350</td>\n",
              "      <td>189400.0</td>\n",
              "    </tr>\n",
              "    <tr>\n",
              "      <th>18113</th>\n",
              "      <td>-122.02</td>\n",
              "      <td>37.31</td>\n",
              "      <td>34.0</td>\n",
              "      <td>2629.0</td>\n",
              "      <td>433.0</td>\n",
              "      <td>1301.0</td>\n",
              "      <td>431.0</td>\n",
              "      <td>6.0830</td>\n",
              "      <td>341400.0</td>\n",
              "    </tr>\n",
              "    <tr>\n",
              "      <th>17673</th>\n",
              "      <td>-121.88</td>\n",
              "      <td>37.30</td>\n",
              "      <td>16.0</td>\n",
              "      <td>2692.0</td>\n",
              "      <td>749.0</td>\n",
              "      <td>1674.0</td>\n",
              "      <td>681.0</td>\n",
              "      <td>2.6763</td>\n",
              "      <td>191100.0</td>\n",
              "    </tr>\n",
              "    <tr>\n",
              "      <th>16992</th>\n",
              "      <td>-122.27</td>\n",
              "      <td>37.56</td>\n",
              "      <td>17.0</td>\n",
              "      <td>3211.0</td>\n",
              "      <td>847.0</td>\n",
              "      <td>1553.0</td>\n",
              "      <td>812.0</td>\n",
              "      <td>4.9434</td>\n",
              "      <td>292100.0</td>\n",
              "    </tr>\n",
              "  </tbody>\n",
              "</table>\n",
              "</div>\n",
              "      <button class=\"colab-df-convert\" onclick=\"convertToInteractive('df-fb3345dd-e79f-4859-9290-77c117d22316')\"\n",
              "              title=\"Convert this dataframe to an interactive table.\"\n",
              "              style=\"display:none;\">\n",
              "        \n",
              "  <svg xmlns=\"http://www.w3.org/2000/svg\" height=\"24px\"viewBox=\"0 0 24 24\"\n",
              "       width=\"24px\">\n",
              "    <path d=\"M0 0h24v24H0V0z\" fill=\"none\"/>\n",
              "    <path d=\"M18.56 5.44l.94 2.06.94-2.06 2.06-.94-2.06-.94-.94-2.06-.94 2.06-2.06.94zm-11 1L8.5 8.5l.94-2.06 2.06-.94-2.06-.94L8.5 2.5l-.94 2.06-2.06.94zm10 10l.94 2.06.94-2.06 2.06-.94-2.06-.94-.94-2.06-.94 2.06-2.06.94z\"/><path d=\"M17.41 7.96l-1.37-1.37c-.4-.4-.92-.59-1.43-.59-.52 0-1.04.2-1.43.59L10.3 9.45l-7.72 7.72c-.78.78-.78 2.05 0 2.83L4 21.41c.39.39.9.59 1.41.59.51 0 1.02-.2 1.41-.59l7.78-7.78 2.81-2.81c.8-.78.8-2.07 0-2.86zM5.41 20L4 18.59l7.72-7.72 1.47 1.35L5.41 20z\"/>\n",
              "  </svg>\n",
              "      </button>\n",
              "      \n",
              "  <style>\n",
              "    .colab-df-container {\n",
              "      display:flex;\n",
              "      flex-wrap:wrap;\n",
              "      gap: 12px;\n",
              "    }\n",
              "\n",
              "    .colab-df-convert {\n",
              "      background-color: #E8F0FE;\n",
              "      border: none;\n",
              "      border-radius: 50%;\n",
              "      cursor: pointer;\n",
              "      display: none;\n",
              "      fill: #1967D2;\n",
              "      height: 32px;\n",
              "      padding: 0 0 0 0;\n",
              "      width: 32px;\n",
              "    }\n",
              "\n",
              "    .colab-df-convert:hover {\n",
              "      background-color: #E2EBFA;\n",
              "      box-shadow: 0px 1px 2px rgba(60, 64, 67, 0.3), 0px 1px 3px 1px rgba(60, 64, 67, 0.15);\n",
              "      fill: #174EA6;\n",
              "    }\n",
              "\n",
              "    [theme=dark] .colab-df-convert {\n",
              "      background-color: #3B4455;\n",
              "      fill: #D2E3FC;\n",
              "    }\n",
              "\n",
              "    [theme=dark] .colab-df-convert:hover {\n",
              "      background-color: #434B5C;\n",
              "      box-shadow: 0px 1px 3px 1px rgba(0, 0, 0, 0.15);\n",
              "      filter: drop-shadow(0px 1px 2px rgba(0, 0, 0, 0.3));\n",
              "      fill: #FFFFFF;\n",
              "    }\n",
              "  </style>\n",
              "\n",
              "      <script>\n",
              "        const buttonEl =\n",
              "          document.querySelector('#df-fb3345dd-e79f-4859-9290-77c117d22316 button.colab-df-convert');\n",
              "        buttonEl.style.display =\n",
              "          google.colab.kernel.accessAllowed ? 'block' : 'none';\n",
              "\n",
              "        async function convertToInteractive(key) {\n",
              "          const element = document.querySelector('#df-fb3345dd-e79f-4859-9290-77c117d22316');\n",
              "          const dataTable =\n",
              "            await google.colab.kernel.invokeFunction('convertToInteractive',\n",
              "                                                     [key], {});\n",
              "          if (!dataTable) return;\n",
              "\n",
              "          const docLinkHtml = 'Like what you see? Visit the ' +\n",
              "            '<a target=\"_blank\" href=https://colab.research.google.com/notebooks/data_table.ipynb>data table notebook</a>'\n",
              "            + ' to learn more about interactive tables.';\n",
              "          element.innerHTML = '';\n",
              "          dataTable['output_type'] = 'display_data';\n",
              "          await google.colab.output.renderOutput(dataTable, element);\n",
              "          const docLink = document.createElement('div');\n",
              "          docLink.innerHTML = docLinkHtml;\n",
              "          element.appendChild(docLink);\n",
              "        }\n",
              "      </script>\n",
              "    </div>\n",
              "  </div>\n",
              "  "
            ]
          },
          "metadata": {},
          "execution_count": 28
        }
      ]
    },
    {
      "cell_type": "code",
      "source": [
        "df_test.head() # Display shuffled test dataframe"
      ],
      "metadata": {
        "colab": {
          "base_uri": "https://localhost:8080/",
          "height": 270
        },
        "id": "mkgiRrJDYa20",
        "outputId": "f2112609-16a3-499f-8e6b-f96438e47530"
      },
      "execution_count": 29,
      "outputs": [
        {
          "output_type": "execute_result",
          "data": {
            "text/plain": [
              "       longitude  latitude  housing_median_age  total_rooms  total_bedrooms  \\\n",
              "9221     -120.26     37.13                33.0       1239.0           250.0   \n",
              "10234    -117.91     33.86                26.0       2296.0           570.0   \n",
              "4763     -118.36     34.04                48.0       1769.0           429.0   \n",
              "9062     -118.15     34.69                32.0       1300.0           234.0   \n",
              "1874     -119.97     38.93                24.0        856.0           185.0   \n",
              "\n",
              "       population  households  median_income  median_house_value  \n",
              "9221        648.0       227.0         2.0278             58800.0  \n",
              "10234      1415.0       527.0         2.4732            165800.0  \n",
              "4763        993.0       405.0         2.3214            139400.0  \n",
              "9062        712.0       249.0         3.2500            107500.0  \n",
              "1874        388.0       108.0         3.1806            107200.0  "
            ],
            "text/html": [
              "\n",
              "  <div id=\"df-41d9f79c-ed05-49f3-8757-9821cf4775c0\">\n",
              "    <div class=\"colab-df-container\">\n",
              "      <div>\n",
              "<style scoped>\n",
              "    .dataframe tbody tr th:only-of-type {\n",
              "        vertical-align: middle;\n",
              "    }\n",
              "\n",
              "    .dataframe tbody tr th {\n",
              "        vertical-align: top;\n",
              "    }\n",
              "\n",
              "    .dataframe thead th {\n",
              "        text-align: right;\n",
              "    }\n",
              "</style>\n",
              "<table border=\"1\" class=\"dataframe\">\n",
              "  <thead>\n",
              "    <tr style=\"text-align: right;\">\n",
              "      <th></th>\n",
              "      <th>longitude</th>\n",
              "      <th>latitude</th>\n",
              "      <th>housing_median_age</th>\n",
              "      <th>total_rooms</th>\n",
              "      <th>total_bedrooms</th>\n",
              "      <th>population</th>\n",
              "      <th>households</th>\n",
              "      <th>median_income</th>\n",
              "      <th>median_house_value</th>\n",
              "    </tr>\n",
              "  </thead>\n",
              "  <tbody>\n",
              "    <tr>\n",
              "      <th>9221</th>\n",
              "      <td>-120.26</td>\n",
              "      <td>37.13</td>\n",
              "      <td>33.0</td>\n",
              "      <td>1239.0</td>\n",
              "      <td>250.0</td>\n",
              "      <td>648.0</td>\n",
              "      <td>227.0</td>\n",
              "      <td>2.0278</td>\n",
              "      <td>58800.0</td>\n",
              "    </tr>\n",
              "    <tr>\n",
              "      <th>10234</th>\n",
              "      <td>-117.91</td>\n",
              "      <td>33.86</td>\n",
              "      <td>26.0</td>\n",
              "      <td>2296.0</td>\n",
              "      <td>570.0</td>\n",
              "      <td>1415.0</td>\n",
              "      <td>527.0</td>\n",
              "      <td>2.4732</td>\n",
              "      <td>165800.0</td>\n",
              "    </tr>\n",
              "    <tr>\n",
              "      <th>4763</th>\n",
              "      <td>-118.36</td>\n",
              "      <td>34.04</td>\n",
              "      <td>48.0</td>\n",
              "      <td>1769.0</td>\n",
              "      <td>429.0</td>\n",
              "      <td>993.0</td>\n",
              "      <td>405.0</td>\n",
              "      <td>2.3214</td>\n",
              "      <td>139400.0</td>\n",
              "    </tr>\n",
              "    <tr>\n",
              "      <th>9062</th>\n",
              "      <td>-118.15</td>\n",
              "      <td>34.69</td>\n",
              "      <td>32.0</td>\n",
              "      <td>1300.0</td>\n",
              "      <td>234.0</td>\n",
              "      <td>712.0</td>\n",
              "      <td>249.0</td>\n",
              "      <td>3.2500</td>\n",
              "      <td>107500.0</td>\n",
              "    </tr>\n",
              "    <tr>\n",
              "      <th>1874</th>\n",
              "      <td>-119.97</td>\n",
              "      <td>38.93</td>\n",
              "      <td>24.0</td>\n",
              "      <td>856.0</td>\n",
              "      <td>185.0</td>\n",
              "      <td>388.0</td>\n",
              "      <td>108.0</td>\n",
              "      <td>3.1806</td>\n",
              "      <td>107200.0</td>\n",
              "    </tr>\n",
              "  </tbody>\n",
              "</table>\n",
              "</div>\n",
              "      <button class=\"colab-df-convert\" onclick=\"convertToInteractive('df-41d9f79c-ed05-49f3-8757-9821cf4775c0')\"\n",
              "              title=\"Convert this dataframe to an interactive table.\"\n",
              "              style=\"display:none;\">\n",
              "        \n",
              "  <svg xmlns=\"http://www.w3.org/2000/svg\" height=\"24px\"viewBox=\"0 0 24 24\"\n",
              "       width=\"24px\">\n",
              "    <path d=\"M0 0h24v24H0V0z\" fill=\"none\"/>\n",
              "    <path d=\"M18.56 5.44l.94 2.06.94-2.06 2.06-.94-2.06-.94-.94-2.06-.94 2.06-2.06.94zm-11 1L8.5 8.5l.94-2.06 2.06-.94-2.06-.94L8.5 2.5l-.94 2.06-2.06.94zm10 10l.94 2.06.94-2.06 2.06-.94-2.06-.94-.94-2.06-.94 2.06-2.06.94z\"/><path d=\"M17.41 7.96l-1.37-1.37c-.4-.4-.92-.59-1.43-.59-.52 0-1.04.2-1.43.59L10.3 9.45l-7.72 7.72c-.78.78-.78 2.05 0 2.83L4 21.41c.39.39.9.59 1.41.59.51 0 1.02-.2 1.41-.59l7.78-7.78 2.81-2.81c.8-.78.8-2.07 0-2.86zM5.41 20L4 18.59l7.72-7.72 1.47 1.35L5.41 20z\"/>\n",
              "  </svg>\n",
              "      </button>\n",
              "      \n",
              "  <style>\n",
              "    .colab-df-container {\n",
              "      display:flex;\n",
              "      flex-wrap:wrap;\n",
              "      gap: 12px;\n",
              "    }\n",
              "\n",
              "    .colab-df-convert {\n",
              "      background-color: #E8F0FE;\n",
              "      border: none;\n",
              "      border-radius: 50%;\n",
              "      cursor: pointer;\n",
              "      display: none;\n",
              "      fill: #1967D2;\n",
              "      height: 32px;\n",
              "      padding: 0 0 0 0;\n",
              "      width: 32px;\n",
              "    }\n",
              "\n",
              "    .colab-df-convert:hover {\n",
              "      background-color: #E2EBFA;\n",
              "      box-shadow: 0px 1px 2px rgba(60, 64, 67, 0.3), 0px 1px 3px 1px rgba(60, 64, 67, 0.15);\n",
              "      fill: #174EA6;\n",
              "    }\n",
              "\n",
              "    [theme=dark] .colab-df-convert {\n",
              "      background-color: #3B4455;\n",
              "      fill: #D2E3FC;\n",
              "    }\n",
              "\n",
              "    [theme=dark] .colab-df-convert:hover {\n",
              "      background-color: #434B5C;\n",
              "      box-shadow: 0px 1px 3px 1px rgba(0, 0, 0, 0.15);\n",
              "      filter: drop-shadow(0px 1px 2px rgba(0, 0, 0, 0.3));\n",
              "      fill: #FFFFFF;\n",
              "    }\n",
              "  </style>\n",
              "\n",
              "      <script>\n",
              "        const buttonEl =\n",
              "          document.querySelector('#df-41d9f79c-ed05-49f3-8757-9821cf4775c0 button.colab-df-convert');\n",
              "        buttonEl.style.display =\n",
              "          google.colab.kernel.accessAllowed ? 'block' : 'none';\n",
              "\n",
              "        async function convertToInteractive(key) {\n",
              "          const element = document.querySelector('#df-41d9f79c-ed05-49f3-8757-9821cf4775c0');\n",
              "          const dataTable =\n",
              "            await google.colab.kernel.invokeFunction('convertToInteractive',\n",
              "                                                     [key], {});\n",
              "          if (!dataTable) return;\n",
              "\n",
              "          const docLinkHtml = 'Like what you see? Visit the ' +\n",
              "            '<a target=\"_blank\" href=https://colab.research.google.com/notebooks/data_table.ipynb>data table notebook</a>'\n",
              "            + ' to learn more about interactive tables.';\n",
              "          element.innerHTML = '';\n",
              "          dataTable['output_type'] = 'display_data';\n",
              "          await google.colab.output.renderOutput(dataTable, element);\n",
              "          const docLink = document.createElement('div');\n",
              "          docLink.innerHTML = docLinkHtml;\n",
              "          element.appendChild(docLink);\n",
              "        }\n",
              "      </script>\n",
              "    </div>\n",
              "  </div>\n",
              "  "
            ]
          },
          "metadata": {},
          "execution_count": 29
        }
      ]
    },
    {
      "cell_type": "code",
      "source": [],
      "metadata": {
        "id": "7nt9zA3-ZQKW"
      },
      "execution_count": 29,
      "outputs": []
    },
    {
      "cell_type": "markdown",
      "source": [
        "## Log Transformation"
      ],
      "metadata": {
        "id": "J5Pkh-CFZLeW"
      }
    },
    {
      "cell_type": "code",
      "source": [
        "# Apply log transformation to median_house_value\n",
        "\n",
        "y_train = np.log1p(df_train.median_house_value.values)\n",
        "y_val = np.log1p(df_val.median_house_value.values)\n",
        "y_test = np.log1p(df_test.median_house_value.values)"
      ],
      "metadata": {
        "id": "7DmK1yYDZOs5"
      },
      "execution_count": 30,
      "outputs": []
    },
    {
      "cell_type": "code",
      "source": [],
      "metadata": {
        "id": "nX00xr0davL4"
      },
      "execution_count": 30,
      "outputs": []
    },
    {
      "cell_type": "markdown",
      "source": [
        "## Verify 'median_house_value' is Not in Dataframe"
      ],
      "metadata": {
        "id": "uEByGhroY1RA"
      }
    },
    {
      "cell_type": "code",
      "source": [
        "# Delete the median_house_value from each of the partitioned dataframes\n",
        "\n",
        "del df_train['median_house_value']\n",
        "del df_val['median_house_value']\n",
        "del df_test['median_house_value']"
      ],
      "metadata": {
        "id": "viCibPHYafuq"
      },
      "execution_count": 31,
      "outputs": []
    },
    {
      "cell_type": "code",
      "source": [
        "df_train.columns # Display columns to verify median_house_value was removed"
      ],
      "metadata": {
        "colab": {
          "base_uri": "https://localhost:8080/"
        },
        "id": "YbwrKrtsawKF",
        "outputId": "4ed14bed-8465-45ad-d54d-7c57f9d15176"
      },
      "execution_count": 32,
      "outputs": [
        {
          "output_type": "execute_result",
          "data": {
            "text/plain": [
              "Index(['longitude', 'latitude', 'housing_median_age', 'total_rooms',\n",
              "       'total_bedrooms', 'population', 'households', 'median_income'],\n",
              "      dtype='object')"
            ]
          },
          "metadata": {},
          "execution_count": 32
        }
      ]
    },
    {
      "cell_type": "code",
      "source": [
        "df_val.columns # Display columns to verify median_house_value was removed"
      ],
      "metadata": {
        "colab": {
          "base_uri": "https://localhost:8080/"
        },
        "id": "jTXztCTzbGQv",
        "outputId": "bdf94c3a-6fd9-4f16-d1ad-3b0a0c002caf"
      },
      "execution_count": 33,
      "outputs": [
        {
          "output_type": "execute_result",
          "data": {
            "text/plain": [
              "Index(['longitude', 'latitude', 'housing_median_age', 'total_rooms',\n",
              "       'total_bedrooms', 'population', 'households', 'median_income'],\n",
              "      dtype='object')"
            ]
          },
          "metadata": {},
          "execution_count": 33
        }
      ]
    },
    {
      "cell_type": "code",
      "source": [
        "df_test.columns # Display columns to verify median_house_value was removed"
      ],
      "metadata": {
        "colab": {
          "base_uri": "https://localhost:8080/"
        },
        "id": "ywQd8fGtbJfy",
        "outputId": "77f99b5f-e4b3-44a9-8271-7012b6ad2d8a"
      },
      "execution_count": 34,
      "outputs": [
        {
          "output_type": "execute_result",
          "data": {
            "text/plain": [
              "Index(['longitude', 'latitude', 'housing_median_age', 'total_rooms',\n",
              "       'total_bedrooms', 'population', 'households', 'median_income'],\n",
              "      dtype='object')"
            ]
          },
          "metadata": {},
          "execution_count": 34
        }
      ]
    },
    {
      "cell_type": "markdown",
      "source": [
        "# **Question 3: Root Mean Square Error**"
      ],
      "metadata": {
        "id": "cdkEEuTFBQvV"
      }
    },
    {
      "cell_type": "code",
      "source": [
        "missing_values # Display"
      ],
      "metadata": {
        "colab": {
          "base_uri": "https://localhost:8080/"
        },
        "id": "CEfImGgBRGNb",
        "outputId": "5b0d30e8-6264-4962-dcc5-5d7796281631"
      },
      "execution_count": 35,
      "outputs": [
        {
          "output_type": "execute_result",
          "data": {
            "text/plain": [
              "total_bedrooms    207\n",
              "dtype: int64"
            ]
          },
          "metadata": {},
          "execution_count": 35
        }
      ]
    },
    {
      "cell_type": "markdown",
      "source": [
        "## Linear Regression & RMSE Functions"
      ],
      "metadata": {
        "id": "KSOAjsvopRb5"
      }
    },
    {
      "cell_type": "code",
      "source": [
        "def train_linear_regression(X, y): # Implement the training program.\n",
        "  ones = np.ones(X.shape[0])\n",
        "  X = np.column_stack([ones, X])\n",
        "  \n",
        "  XTX = X.T.dot(X)\n",
        "  XTX_inv = np.linalg.inv(XTX)\n",
        "  w_full = XTX_inv.dot(X.T).dot(y)\n",
        "\n",
        "  return w_full[0], w_full[1:]"
      ],
      "metadata": {
        "id": "AzRsF2gFdHJt"
      },
      "execution_count": 36,
      "outputs": []
    },
    {
      "cell_type": "code",
      "source": [
        "def prepare_X(df):\n",
        "    df_num = df_train.copy()\n",
        "    df_num = df_num.fillna(0)\n",
        "    X = df_num.values\n",
        "    return X"
      ],
      "metadata": {
        "id": "ESHwoSnKl3l2"
      },
      "execution_count": 37,
      "outputs": []
    },
    {
      "cell_type": "code",
      "source": [
        "def rmse(y, y_pred):\n",
        "  error = y - y_pred # Difference between y and y_pred\n",
        "  se = error ** 2 # Square to eliminate negative values; square error correction\n",
        "  mse = se.mean() # Finds the mean square error\n",
        "  return np.sqrt(mse) # Finds square root of mse"
      ],
      "metadata": {
        "id": "tjguhHPBpanP"
      },
      "execution_count": 38,
      "outputs": []
    },
    {
      "cell_type": "markdown",
      "source": [
        "## Fill with Zeros"
      ],
      "metadata": {
        "id": "Zck3saCcgYXu"
      }
    },
    {
      "cell_type": "code",
      "source": [
        "X_train_zeros = df_train.fillna(0) # Fill the null values with 0; \n",
        "X_val_zeros = df_val.fillna(0)"
      ],
      "metadata": {
        "id": "PvVcj-_SRGtC"
      },
      "execution_count": 39,
      "outputs": []
    },
    {
      "cell_type": "code",
      "source": [
        "bias_zeros, weights_zeros = train_linear_regression(X_train_zeros, y_train)\n",
        "np.round(bias_zeros, 2),  weights_zeros"
      ],
      "metadata": {
        "colab": {
          "base_uri": "https://localhost:8080/"
        },
        "id": "CcaE0miCqCaI",
        "outputId": "4e35061f-7643-4332-b545-cc3c6dfc76d4"
      },
      "execution_count": 40,
      "outputs": [
        {
          "output_type": "execute_result",
          "data": {
            "text/plain": [
              "(-11.69,\n",
              " array([-2.76255120e-01, -2.82087184e-01,  2.91329621e-03, -8.64531514e-06,\n",
              "         1.50811922e-04, -2.08205659e-04,  5.69546573e-04,  1.71308139e-01]))"
            ]
          },
          "metadata": {},
          "execution_count": 40
        }
      ]
    },
    {
      "cell_type": "code",
      "source": [
        "y_pred_zeros = bias_zeros + X_val_zeros.dot(weights_zeros) # Establish the prediction \n",
        "# for y; store as y_pred\n",
        "y_pred_zeros # Display y_pred"
      ],
      "metadata": {
        "colab": {
          "base_uri": "https://localhost:8080/"
        },
        "id": "NN_gTmapxWkN",
        "outputId": "39a0fdf9-065f-47ff-90ee-0b8160a764a4"
      },
      "execution_count": 41,
      "outputs": [
        {
          "output_type": "execute_result",
          "data": {
            "text/plain": [
              "19660    11.468796\n",
              "4415     12.058235\n",
              "18113    12.655293\n",
              "17673    12.095241\n",
              "16992    12.631020\n",
              "           ...    \n",
              "20011    11.491887\n",
              "12225    11.540123\n",
              "1051     11.682920\n",
              "14519    12.178823\n",
              "11410    12.235890\n",
              "Length: 4128, dtype: float64"
            ]
          },
          "metadata": {},
          "execution_count": 41
        }
      ]
    },
    {
      "cell_type": "markdown",
      "source": [
        "## RMSE - Zeros"
      ],
      "metadata": {
        "id": "67V1rmPnzMKK"
      }
    },
    {
      "cell_type": "code",
      "source": [
        "rmse_zeros = rmse(y_val, y_pred_zeros)\n",
        "rmse_zeros"
      ],
      "metadata": {
        "colab": {
          "base_uri": "https://localhost:8080/"
        },
        "id": "nAZQLx6N0F9V",
        "outputId": "35fed389-52b1-47a8-a933-55362afbff02"
      },
      "execution_count": 42,
      "outputs": [
        {
          "output_type": "execute_result",
          "data": {
            "text/plain": [
              "0.32953303652286225"
            ]
          },
          "metadata": {},
          "execution_count": 42
        }
      ]
    },
    {
      "cell_type": "code",
      "source": [
        "rmse_zeros_round = round(rmse(y_val, y_pred_zeros), 2)\n",
        "rmse_zeros_round"
      ],
      "metadata": {
        "colab": {
          "base_uri": "https://localhost:8080/"
        },
        "id": "SVq3p45suByt",
        "outputId": "89d82158-d8e0-4eb2-b096-7fa782fe77fd"
      },
      "execution_count": 43,
      "outputs": [
        {
          "output_type": "execute_result",
          "data": {
            "text/plain": [
              "0.33"
            ]
          },
          "metadata": {},
          "execution_count": 43
        }
      ]
    },
    {
      "cell_type": "markdown",
      "source": [
        "##  Fill with Column Mean"
      ],
      "metadata": {
        "id": "hNb0AgKNgfir"
      }
    },
    {
      "cell_type": "code",
      "source": [
        "X_train_mean = df_train.fillna(df_train.mean()) # Fill the null values with\n",
        "# fill with the mean of the column.\n",
        "X_val_mean = df_val.fillna(df_val.mean())"
      ],
      "metadata": {
        "id": "TT_9QuoBgdB1"
      },
      "execution_count": 44,
      "outputs": []
    },
    {
      "cell_type": "code",
      "source": [
        "bias_mean, weights_mean = train_linear_regression(X_train_mean, y_train)\n",
        "np.round(bias_mean, 2), weights_mean"
      ],
      "metadata": {
        "colab": {
          "base_uri": "https://localhost:8080/"
        },
        "id": "aGZNRr1IswLP",
        "outputId": "a0edfbf4-f5eb-439d-9f33-58ce0d56c4e4"
      },
      "execution_count": 45,
      "outputs": [
        {
          "output_type": "execute_result",
          "data": {
            "text/plain": [
              "(-11.76,\n",
              " array([-2.76809637e-01, -2.82182103e-01,  2.93033801e-03, -1.48543785e-05,\n",
              "         2.48054046e-04, -2.03763456e-04,  4.87004092e-04,  1.73086593e-01]))"
            ]
          },
          "metadata": {},
          "execution_count": 45
        }
      ]
    },
    {
      "cell_type": "code",
      "source": [
        "y_pred_mean = bias_mean + X_val_mean.dot(weights_mean) # Establish the prediction \n",
        "# for y; store as y_pred\n",
        "y_pred_mean # Display y_pred"
      ],
      "metadata": {
        "colab": {
          "base_uri": "https://localhost:8080/"
        },
        "id": "kjEElnlbzgQa",
        "outputId": "454b742f-241e-44f6-f711-41b8246437b1"
      },
      "execution_count": 46,
      "outputs": [
        {
          "output_type": "execute_result",
          "data": {
            "text/plain": [
              "19660    11.463382\n",
              "4415     12.059138\n",
              "18113    12.654182\n",
              "17673    12.099047\n",
              "16992    12.634023\n",
              "           ...    \n",
              "20011    11.486175\n",
              "12225    11.536675\n",
              "1051     11.681352\n",
              "14519    12.174048\n",
              "11410    12.240262\n",
              "Length: 4128, dtype: float64"
            ]
          },
          "metadata": {},
          "execution_count": 46
        }
      ]
    },
    {
      "cell_type": "markdown",
      "source": [
        "## RMSE - Mean"
      ],
      "metadata": {
        "id": "zMWc9VXpz428"
      }
    },
    {
      "cell_type": "code",
      "source": [
        "rmse_mean = rmse(y_val, y_pred_mean)\n",
        "rmse_mean"
      ],
      "metadata": {
        "colab": {
          "base_uri": "https://localhost:8080/"
        },
        "id": "uggsEbBb0MDv",
        "outputId": "0c6852b0-c343-4df6-946d-7ff86756acb1"
      },
      "execution_count": 47,
      "outputs": [
        {
          "output_type": "execute_result",
          "data": {
            "text/plain": [
              "0.3290195439004283"
            ]
          },
          "metadata": {},
          "execution_count": 47
        }
      ]
    },
    {
      "cell_type": "code",
      "source": [
        "rmse_mean_round = round(rmse(y_val, y_pred_mean), 2)\n",
        "rmse_mean_round"
      ],
      "metadata": {
        "colab": {
          "base_uri": "https://localhost:8080/"
        },
        "id": "yxK4umIdz4dC",
        "outputId": "0db13e45-fb13-4c90-f9b0-20d116da6479"
      },
      "execution_count": 48,
      "outputs": [
        {
          "output_type": "execute_result",
          "data": {
            "text/plain": [
              "0.33"
            ]
          },
          "metadata": {},
          "execution_count": 48
        }
      ]
    },
    {
      "cell_type": "markdown",
      "source": [
        "## Questions 3 Solution:"
      ],
      "metadata": {
        "id": "liQ1BR3TY8cQ"
      }
    },
    {
      "cell_type": "markdown",
      "source": [
        "### Compare Zeros vs. Means"
      ],
      "metadata": {
        "id": "ffiGKtaT0iPK"
      }
    },
    {
      "cell_type": "code",
      "source": [
        "print(f'''\n",
        "\n",
        "          rmse_zeros =  {rmse_zeros}\n",
        "          rmse_mean = {rmse_mean}\n",
        "          bias_mse_zero = {bias_zeros}\n",
        "          bias_mse_mean = {bias_mean}\n",
        "\n",
        "''')\n"
      ],
      "metadata": {
        "colab": {
          "base_uri": "https://localhost:8080/"
        },
        "id": "XzZqgDB72SOC",
        "outputId": "699578c8-741d-4c20-d114-712261ad0890"
      },
      "execution_count": 49,
      "outputs": [
        {
          "output_type": "stream",
          "name": "stdout",
          "text": [
            "\n",
            "\n",
            "          rmse_zeros =  0.32953303652286225\n",
            "          rmse_mean = 0.3290195439004283\n",
            "          bias_mse_zero = -11.686975242036546\n",
            "          bias_mse_mean = -11.759590872680436\n",
            "\n",
            "\n"
          ]
        }
      ]
    },
    {
      "cell_type": "code",
      "source": [],
      "metadata": {
        "id": "DJCVuY0uA2J4"
      },
      "execution_count": 49,
      "outputs": []
    },
    {
      "cell_type": "markdown",
      "source": [
        "# **Question 4: Training a Regularized Linear Regression**"
      ],
      "metadata": {
        "id": "lJBcW_kQBVcT"
      }
    },
    {
      "cell_type": "code",
      "source": [
        "def train_linear_regression_reg(X, y, r=0.001):\n",
        "    ones = np.ones(X.shape[0])\n",
        "    X = np.column_stack([ones, X])\n",
        "\n",
        "    XTX = X.T.dot(X)\n",
        "    XTX = XTX + r * np.eye(XTX.shape[0])\n",
        "\n",
        "    XTX_inv = np.linalg.inv(XTX)\n",
        "    w_full = XTX_inv.dot(X.T).dot(y)\n",
        "    \n",
        "    return w_full[0], w_full[1:]"
      ],
      "metadata": {
        "id": "E6soypkDRHWh"
      },
      "execution_count": 50,
      "outputs": []
    },
    {
      "cell_type": "markdown",
      "source": [
        "## Question 4 Solution:"
      ],
      "metadata": {
        "id": "fpotOF5tYxja"
      }
    },
    {
      "cell_type": "code",
      "source": [
        "for r in [0, 0.000001, 0.0001, 0.001, 0.01, 0.1, 1, 5, 10]:\n",
        "    w_0, w = train_linear_regression_reg(X_train_zeros, y_train, r=r)\n",
        "    y_pred = w_0 + X_val_zeros.dot(w)\n",
        "    # print(w_0, w)\n",
        "    # print('%5s, %.2f, %.2f, %.2f' % (r, w_0, w[0], w[7]))\n",
        "    print(f'RMSE for r = {r} is: {round(rmse(y_val, y_pred), 2)}')\n",
        "    "
      ],
      "metadata": {
        "colab": {
          "base_uri": "https://localhost:8080/"
        },
        "id": "C_PoVH6T3_yC",
        "outputId": "f4de5afa-b0df-48f6-dbbb-5e869b8b9cd1"
      },
      "execution_count": 51,
      "outputs": [
        {
          "output_type": "stream",
          "name": "stdout",
          "text": [
            "RMSE for r = 0 is: 0.33\n",
            "RMSE for r = 1e-06 is: 0.33\n",
            "RMSE for r = 0.0001 is: 0.33\n",
            "RMSE for r = 0.001 is: 0.33\n",
            "RMSE for r = 0.01 is: 0.33\n",
            "RMSE for r = 0.1 is: 0.33\n",
            "RMSE for r = 1 is: 0.33\n",
            "RMSE for r = 5 is: 0.34\n",
            "RMSE for r = 10 is: 0.34\n"
          ]
        }
      ]
    },
    {
      "cell_type": "code",
      "source": [
        "print(f'The best RSME is generated from r = 0.001')"
      ],
      "metadata": {
        "colab": {
          "base_uri": "https://localhost:8080/"
        },
        "id": "WCXAIq_kAdu2",
        "outputId": "6b21735e-bec2-4f5f-b03d-ec5a7ae1b9a7"
      },
      "execution_count": 52,
      "outputs": [
        {
          "output_type": "stream",
          "name": "stdout",
          "text": [
            "The best RSME is generated from r = 0.001\n"
          ]
        }
      ]
    },
    {
      "cell_type": "code",
      "source": [],
      "metadata": {
        "id": "hhYXytB5A01n"
      },
      "execution_count": 52,
      "outputs": []
    },
    {
      "cell_type": "markdown",
      "source": [
        "# **Question 5: Splitting the Data to Standard Deviation Scores**"
      ],
      "metadata": {
        "id": "HfG2XJuuBXtP"
      }
    },
    {
      "cell_type": "code",
      "source": [
        "seed_values = [0, 1, 2, 3, 4, 5, 6, 7, 8, 9]\n",
        "results = []\n",
        "\n",
        "for i in seed_values:\n",
        "\n",
        "  # Create a random seed for each seed_value\n",
        "\n",
        "  np.random.seed(i) # Establish a reproduceable shuffle\n",
        "\n",
        "  n = len(df) # Length of the dataframe; stored as n.\n",
        "\n",
        "  # Data split amount\n",
        "\n",
        "  n_val = int(n * 0.2) # Validation data; 20% of the total n; stored as n_val\n",
        "  n_test = int(n * 0.2) # Test data; 20% of the total n; stored as n_test\n",
        "  n_train = int(n - n_val - n_test) # Training data equals the difference between\n",
        "  # entire data set, with n_val and n_test subtracted from total dataset; stored\n",
        "  # as n_train.\n",
        "\n",
        "  # Shuffle\n",
        "\n",
        "  idx = np.arange(n) # Generates an array of numbers from 1 to (n - 1); uses NumPy \n",
        "  # function called arange; stored as idx (short for index).\n",
        "  np.random.shuffle(idx) # Shuffle the index.\n",
        "\n",
        "  # Data split\n",
        "\n",
        "  df_train_std = df.iloc[idx[:n_train]] # Locks the beginning 12,384 indexes in the\n",
        "  # newly-shuffled index; stored as df_train.\n",
        "  df_val_std = df.iloc[idx[n_train:n_train + n_val]] # Locks the next 4,128 indexes up \n",
        "  # to the test dataframe; stored as df_val.\n",
        "  df_test_std = df.iloc[idx[n_train + n_val:]] # Locks the remaining 4,128 indexes in \n",
        "  # the dataframe; stored as df_test.\n",
        "\n",
        "  # y split\n",
        "\n",
        "  y_train_std = np.log1p(df_train_std.median_house_value.values)\n",
        "  y_val_std = np.log1p(df_val_std.median_house_value.values)\n",
        "  y_test_std = np.log1p(df_test_std.median_house_value.values)\n",
        "\n",
        "  # Remove target variable y from data partitions\n",
        "\n",
        "  del df_train_std['median_house_value']\n",
        "  del df_val_std['median_house_value']\n",
        "  del df_test_std['median_house_value']\n",
        "\n",
        "  # Replace null values with 0\n",
        "\n",
        "  X_train_zeros_std = df_train_std.fillna(0) # Fill the null values with 0; \n",
        "  X_val_zeros_std = df_val_std.fillna(0)\n",
        "\n",
        "  # Linear Regression\n",
        "\n",
        "  bias_zeros_std, weights_zeros_std = train_linear_regression(X_train_zeros_std, y_train_std)\n",
        "\n",
        "  # Regression - y prediction\n",
        "\n",
        "  y_pred_zeros_std = bias_zeros_std + X_val_zeros_std.dot(weights_zeros_std) # Establish the prediction \n",
        "  # for y; store as y_pred_std\n",
        "\n",
        "  # RMSE Call\n",
        "\n",
        "  rmse_std = rmse(y_val_std, y_pred_zeros_std)\n",
        "\n",
        "  results.append(np.round(rmse_std, 3))\n",
        "\n",
        "results_array = np.array(results)\n",
        "\n",
        "std_results = round(np.std(results_array), 3)"
      ],
      "metadata": {
        "id": "WN_32hwRRIJb"
      },
      "execution_count": 53,
      "outputs": []
    },
    {
      "cell_type": "markdown",
      "source": [
        "## Question 5 Solution:"
      ],
      "metadata": {
        "id": "zZXjpUaWYsby"
      }
    },
    {
      "cell_type": "code",
      "source": [
        "std_results"
      ],
      "metadata": {
        "colab": {
          "base_uri": "https://localhost:8080/"
        },
        "id": "LaaeqQlOBy0b",
        "outputId": "64bf76cc-ae3f-4a99-c8c6-789029a9ce71"
      },
      "execution_count": 54,
      "outputs": [
        {
          "output_type": "execute_result",
          "data": {
            "text/plain": [
              "0.004"
            ]
          },
          "metadata": {},
          "execution_count": 54
        }
      ]
    },
    {
      "cell_type": "code",
      "source": [],
      "metadata": {
        "id": "48Pwvj1QKCcb"
      },
      "execution_count": 54,
      "outputs": []
    },
    {
      "cell_type": "markdown",
      "source": [
        "# **Question 6: Combining Train and Validation Datasets**"
      ],
      "metadata": {
        "id": "kuECfP5dBaOY"
      }
    },
    {
      "cell_type": "code",
      "source": [
        "np.random.seed(9) # Establish a reproduceable shuffle\n",
        "\n",
        "n = len(df) # Length of the dataframe; stored as n.\n",
        "\n",
        "# Data split amount\n",
        "\n",
        "\n",
        "n_val = int(n * 0.2) # Validation data; 20% of the total n; stored as n_val\n",
        "n_test = int(n * 0.2) # Test data; 20% of the total n; stored as n_test\n",
        "n_train = int(n - n_val - n_test) # Training data equals the difference between\n",
        "# entire data set, with n_val and n_test subtracted from total dataset; stored\n",
        "# as n_train.\n",
        "\n",
        "# Shuffle\n",
        "\n",
        "idx = np.arange(n) # Generates an array of numbers from 1 to (n - 1); uses NumPy \n",
        "# function called arange; stored as idx (short for index).\n",
        "np.random.shuffle(idx) # Shuffle the index.\n",
        "\n",
        "# Data split\n",
        "\n",
        "df_train_9= df.iloc[idx[:n_train]].copy() # Locks the beginning 12,384 indexes in the\n",
        "# newly-shuffled index; stored as df_train.\n",
        "df_val_9= df.iloc[idx[n_train:n_train + n_val]].copy() # Locks the next 4,128 indexes up \n",
        "# to the test dataframe; stored as df_val.\n",
        "df_test_9= df.iloc[idx[n_train + n_val:]].copy() # Locks the remaining indexes in \n",
        "# the dataframe; stored as df_test.\n",
        "# Remove target variable y from data partitions\n",
        "  \n",
        "y_train_9 = np.log1p(df_train_9.median_house_value.values)\n",
        "y_val_9 = np.log1p(df_val_9.median_house_value.values)\n",
        "y_test_9 = np.log1p(df_test_9.median_house_value.values)\n",
        "\n",
        "del df_train_9['median_house_value']\n",
        "del df_val_9['median_house_value']\n",
        "del df_test_9['median_house_value']\n",
        "\n",
        "X_train_9 = df_train.fillna(0) # Fill the null values with 0;\n",
        "X_val_9 = df_val.fillna(0)\n",
        "X_test_9 = df_test.fillna(0) # Fill the null values with 0;\n",
        "\n",
        "\n",
        "# Concatenate the train and validation sets\n",
        "\n",
        "X_train_full = pd.concat([X_train_9, X_val_9])\n",
        "\n",
        "y_train_full = np.concatenate([y_train_9, y_val_9])\n",
        "\n",
        "# Train the model on the full training set\n",
        "bias_full, weights_full = train_linear_regression_reg(X_train_full, y_train_full, r=0.001)\n",
        "\n",
        "# Make predictions on the test set\n",
        "\n",
        "y_pred_full = bias_full + X_test_9.dot(weights_full) # Establish the prediction\n",
        "\n",
        "\n",
        "# RMSE Call\n",
        "\n",
        "rmse_full = rmse(y_test_9, y_pred_full)"
      ],
      "metadata": {
        "id": "dba_qziERJK4"
      },
      "execution_count": 55,
      "outputs": []
    },
    {
      "cell_type": "markdown",
      "source": [
        "## Question 6 Solution:"
      ],
      "metadata": {
        "id": "LKwoVuIZZ071"
      }
    },
    {
      "cell_type": "code",
      "source": [
        "# print(rmse_full)\n",
        "print(f'RMSE for the model: {round(rmse_full, 3)}')"
      ],
      "metadata": {
        "colab": {
          "base_uri": "https://localhost:8080/"
        },
        "id": "C8WeT2V3aZZH",
        "outputId": "f57c47c3-79be-4649-da4f-21adbc0ce479"
      },
      "execution_count": 56,
      "outputs": [
        {
          "output_type": "stream",
          "name": "stdout",
          "text": [
            "RMSE for the model: 0.58\n"
          ]
        }
      ]
    },
    {
      "cell_type": "code",
      "source": [
        "df_train_9.shape"
      ],
      "metadata": {
        "colab": {
          "base_uri": "https://localhost:8080/"
        },
        "id": "JGmjQzu6RI-O",
        "outputId": "c4b284e0-e56d-4eb2-c3ed-241f822941a4"
      },
      "execution_count": 57,
      "outputs": [
        {
          "output_type": "execute_result",
          "data": {
            "text/plain": [
              "(12384, 8)"
            ]
          },
          "metadata": {},
          "execution_count": 57
        }
      ]
    }
  ]
}