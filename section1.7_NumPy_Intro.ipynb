{
 "cells": [
  {
   "cell_type": "code",
   "execution_count": 2,
   "id": "8d35f5c5-2340-4bb4-b6ff-e3929b33a8e7",
   "metadata": {},
   "outputs": [],
   "source": [
    "# This is a comment\n",
    "\n",
    "import numpy as np"
   ]
  },
  {
   "cell_type": "code",
   "execution_count": 7,
   "id": "aa284833-9f38-494d-b732-ab235b19d3ff",
   "metadata": {
    "tags": []
   },
   "outputs": [
    {
     "data": {
      "text/plain": [
       "array([0., 0., 0., 0., 0.])"
      ]
     },
     "execution_count": 7,
     "metadata": {},
     "output_type": "execute_result"
    }
   ],
   "source": [
    "#Creating arrays\n",
    "np.zeros(5) # Creates an array of five 0's."
   ]
  },
  {
   "cell_type": "code",
   "execution_count": 8,
   "id": "84aff2e2-da84-463f-bab6-4c18b6d2a728",
   "metadata": {},
   "outputs": [
    {
     "data": {
      "text/plain": [
       "array([0., 0., 0., 0., 0., 0., 0., 0., 0., 0.])"
      ]
     },
     "execution_count": 8,
     "metadata": {},
     "output_type": "execute_result"
    }
   ],
   "source": [
    "np.zeros(10) # Creates an array of ten 0's."
   ]
  },
  {
   "cell_type": "code",
   "execution_count": 9,
   "id": "f2d65520-07e9-465a-9268-d103324334ed",
   "metadata": {},
   "outputs": [
    {
     "data": {
      "text/plain": [
       "array([1., 1., 1., 1., 1.])"
      ]
     },
     "execution_count": 9,
     "metadata": {},
     "output_type": "execute_result"
    }
   ],
   "source": [
    "np.ones(5) # Creates an array of five 1's."
   ]
  },
  {
   "cell_type": "code",
   "execution_count": 10,
   "id": "7ec82b5d-d054-4468-8a47-ea9b7c15ffcf",
   "metadata": {},
   "outputs": [
    {
     "data": {
      "text/plain": [
       "array([1., 1., 1., 1., 1., 1., 1., 1., 1., 1.])"
      ]
     },
     "execution_count": 10,
     "metadata": {},
     "output_type": "execute_result"
    }
   ],
   "source": [
    "np.ones(10) # Creates an array of ten 1's."
   ]
  },
  {
   "cell_type": "code",
   "execution_count": 11,
   "id": "f47118ea-38fa-4b05-b098-0714b2c7371e",
   "metadata": {},
   "outputs": [
    {
     "data": {
      "text/plain": [
       "array([2.5, 2.5, 2.5, 2.5, 2.5, 2.5, 2.5, 2.5, 2.5, 2.5])"
      ]
     },
     "execution_count": 11,
     "metadata": {},
     "output_type": "execute_result"
    }
   ],
   "source": [
    "np.full(10,2.5) # Generates an array of an arbitrary value; this array will have the number 2.5 10 times."
   ]
  },
  {
   "cell_type": "code",
   "execution_count": 14,
   "id": "8ab9fe63-88f7-4876-8ff8-b901ddc59521",
   "metadata": {},
   "outputs": [
    {
     "data": {
      "text/plain": [
       "array([ 1,  2,  3,  5,  7, 12])"
      ]
     },
     "execution_count": 14,
     "metadata": {},
     "output_type": "execute_result"
    }
   ],
   "source": [
    "a = np.array([1, 2, 3, 5, 7, 12]) # Creates an array out of a specific argument, and stores as variable a.\n",
    "a # Displays the value for a."
   ]
  },
  {
   "cell_type": "code",
   "execution_count": 15,
   "id": "d4f3bddb-87e4-4cb6-8fb2-ed719334f418",
   "metadata": {},
   "outputs": [
    {
     "data": {
      "text/plain": [
       "3"
      ]
     },
     "execution_count": 15,
     "metadata": {},
     "output_type": "execute_result"
    }
   ],
   "source": [
    "a[2] # If we want to access an element in the array, for example the 3rd element."
   ]
  },
  {
   "cell_type": "code",
   "execution_count": 16,
   "id": "d9e64016-8378-43aa-97d1-83fbae13525f",
   "metadata": {},
   "outputs": [
    {
     "data": {
      "text/plain": [
       "1"
      ]
     },
     "execution_count": 16,
     "metadata": {},
     "output_type": "execute_result"
    }
   ],
   "source": [
    "a[0] # Since the 1 would be the zeroth element."
   ]
  },
  {
   "cell_type": "code",
   "execution_count": 17,
   "id": "46ec311d-c463-4c60-a9ad-4b281d9ef0d2",
   "metadata": {},
   "outputs": [
    {
     "data": {
      "text/plain": [
       "7"
      ]
     },
     "execution_count": 17,
     "metadata": {},
     "output_type": "execute_result"
    }
   ],
   "source": [
    "a[4] # Displays the fifth element in array a."
   ]
  },
  {
   "cell_type": "code",
   "execution_count": 19,
   "id": "276efecf-6435-41d3-8f4a-e46386348859",
   "metadata": {},
   "outputs": [
    {
     "data": {
      "text/plain": [
       "array([ 1,  2, 10,  5,  7, 12])"
      ]
     },
     "execution_count": 19,
     "metadata": {},
     "output_type": "execute_result"
    }
   ],
   "source": [
    "# You can also change elements in an array using the assignment operator:\n",
    "a[2] = 10 # Changes the third element in an array to 10.\n",
    "a"
   ]
  },
  {
   "cell_type": "code",
   "execution_count": 20,
   "id": "30ae3ed3-3b80-47d9-9eee-32552e32c3fa",
   "metadata": {},
   "outputs": [
    {
     "data": {
      "text/plain": [
       "array([0, 1, 2, 3, 4, 5, 6, 7, 8, 9])"
      ]
     },
     "execution_count": 20,
     "metadata": {},
     "output_type": "execute_result"
    }
   ],
   "source": [
    "b = np.arange(10) # Creates an array from 0 to 9\n",
    "b # The argument in the arange function is not included."
   ]
  },
  {
   "cell_type": "code",
   "execution_count": 21,
   "id": "f478258a-e12e-4ac4-bd24-429aa209a3e9",
   "metadata": {},
   "outputs": [
    {
     "data": {
      "text/plain": [
       "array([3, 4, 5, 6, 7, 8, 9])"
      ]
     },
     "execution_count": 21,
     "metadata": {},
     "output_type": "execute_result"
    }
   ],
   "source": [
    "c = np.arange(3,10) # Creates an array from 3 to 9.\n",
    "c"
   ]
  },
  {
   "cell_type": "code",
   "execution_count": 22,
   "id": "a3f3fbeb-60ad-42d8-af01-864200cff101",
   "metadata": {},
   "outputs": [
    {
     "data": {
      "text/plain": [
       "array([0.        , 0.02040816, 0.04081633, 0.06122449, 0.08163265,\n",
       "       0.10204082, 0.12244898, 0.14285714, 0.16326531, 0.18367347,\n",
       "       0.20408163, 0.2244898 , 0.24489796, 0.26530612, 0.28571429,\n",
       "       0.30612245, 0.32653061, 0.34693878, 0.36734694, 0.3877551 ,\n",
       "       0.40816327, 0.42857143, 0.44897959, 0.46938776, 0.48979592,\n",
       "       0.51020408, 0.53061224, 0.55102041, 0.57142857, 0.59183673,\n",
       "       0.6122449 , 0.63265306, 0.65306122, 0.67346939, 0.69387755,\n",
       "       0.71428571, 0.73469388, 0.75510204, 0.7755102 , 0.79591837,\n",
       "       0.81632653, 0.83673469, 0.85714286, 0.87755102, 0.89795918,\n",
       "       0.91836735, 0.93877551, 0.95918367, 0.97959184, 1.        ])"
      ]
     },
     "execution_count": 22,
     "metadata": {},
     "output_type": "execute_result"
    }
   ],
   "source": [
    "d = np.linspace(0,1) # Generates an array of arbitrary numbers betweent he first and second parameter.\n",
    "d"
   ]
  },
  {
   "cell_type": "code",
   "execution_count": 23,
   "id": "2e246892-f3e0-44d6-bd55-130d5e2d1fca",
   "metadata": {},
   "outputs": [
    {
     "data": {
      "text/plain": [
       "array([0. , 0.1, 0.2, 0.3, 0.4, 0.5, 0.6, 0.7, 0.8, 0.9, 1. ])"
      ]
     },
     "execution_count": 23,
     "metadata": {},
     "output_type": "execute_result"
    }
   ],
   "source": [
    "f = np.linspace(0,1,11) # Generates an array with 11 elements from 0 to 1\n",
    "f"
   ]
  },
  {
   "cell_type": "code",
   "execution_count": 24,
   "id": "63dbbacd-8f1d-4353-a50e-afd8ee8e9dcf",
   "metadata": {},
   "outputs": [
    {
     "data": {
      "text/plain": [
       "array([  0.,  10.,  20.,  30.,  40.,  50.,  60.,  70.,  80.,  90., 100.])"
      ]
     },
     "execution_count": 24,
     "metadata": {},
     "output_type": "execute_result"
    }
   ],
   "source": [
    "g = np.linspace(0,100,11) # Generates an array with 11 elements from 0 to 100.\n",
    "g"
   ]
  },
  {
   "cell_type": "code",
   "execution_count": null,
   "id": "c828adda-40e3-4010-92e3-34fc849f9ec4",
   "metadata": {
    "tags": []
   },
   "outputs": [],
   "source": []
  },
  {
   "cell_type": "code",
   "execution_count": null,
   "id": "b9763302-d27c-400b-993b-15c271ae5e93",
   "metadata": {},
   "outputs": [],
   "source": []
  },
  {
   "cell_type": "code",
   "execution_count": null,
   "id": "72b49533-7659-41ce-8332-8e6710264da2",
   "metadata": {},
   "outputs": [],
   "source": []
  },
  {
   "cell_type": "code",
   "execution_count": null,
   "id": "1de41998-4556-4220-a448-1372d93166f8",
   "metadata": {},
   "outputs": [],
   "source": []
  },
  {
   "cell_type": "code",
   "execution_count": 25,
   "id": "e68663bf-bc48-4bcb-80c2-0aeec4a88206",
   "metadata": {},
   "outputs": [
    {
     "data": {
      "text/plain": [
       "array([[0., 0.],\n",
       "       [0., 0.],\n",
       "       [0., 0.],\n",
       "       [0., 0.],\n",
       "       [0., 0.]])"
      ]
     },
     "execution_count": 25,
     "metadata": {},
     "output_type": "execute_result"
    }
   ],
   "source": [
    "#Multi-dimensional arrays\n",
    "np.zeros((5,2)) # Generates an array of 0's with 5 rows and 2 columns"
   ]
  },
  {
   "cell_type": "code",
   "execution_count": 29,
   "id": "4a932fe0-777b-44c8-9be7-dfa726e1dc08",
   "metadata": {},
   "outputs": [
    {
     "data": {
      "text/plain": [
       "array([[1, 2, 3],\n",
       "       [4, 5, 6],\n",
       "       [7, 8, 9]])"
      ]
     },
     "execution_count": 29,
     "metadata": {},
     "output_type": "execute_result"
    }
   ],
   "source": [
    "n = np.array([\n",
    "    [1,2,3], # Row 0\n",
    "    [4,5,6], # Row 1\n",
    "    [7,8,9]  # Row 2\n",
    "])\n",
    "# Column:\n",
    "#   0 1 2\n",
    "n"
   ]
  },
  {
   "cell_type": "code",
   "execution_count": 31,
   "id": "446eed0b-ea68-4ba9-8939-d838a5e8ba0a",
   "metadata": {},
   "outputs": [
    {
     "data": {
      "text/plain": [
       "array([[ 1, 20,  3],\n",
       "       [ 4,  5,  6],\n",
       "       [ 7,  8,  9]])"
      ]
     },
     "execution_count": 31,
     "metadata": {},
     "output_type": "execute_result"
    }
   ],
   "source": [
    "# So, if we want to extract the number 2 from array n and assign a new value, 20;\n",
    "n[0,1] = 20 # Extract from row 0, column 1.\n",
    "n"
   ]
  },
  {
   "cell_type": "code",
   "execution_count": 32,
   "id": "d67f1320-9aad-4455-a7ba-d3e19ba136c3",
   "metadata": {},
   "outputs": [
    {
     "data": {
      "text/plain": [
       "array([ 1, 20,  3])"
      ]
     },
     "execution_count": 32,
     "metadata": {},
     "output_type": "execute_result"
    }
   ],
   "source": [
    "n[0] # Use this if you want to access a specific row, this case row 0"
   ]
  },
  {
   "cell_type": "code",
   "execution_count": 33,
   "id": "86448ea2-e671-4f11-9c20-409821431fc5",
   "metadata": {},
   "outputs": [
    {
     "data": {
      "text/plain": [
       "array([7, 8, 9])"
      ]
     },
     "execution_count": 33,
     "metadata": {},
     "output_type": "execute_result"
    }
   ],
   "source": [
    "n[2] # Used to access the third row"
   ]
  },
  {
   "cell_type": "code",
   "execution_count": 34,
   "id": "d50bf029-b182-4d89-ad7b-517d792ec142",
   "metadata": {},
   "outputs": [],
   "source": [
    "n[2] = [1, 1, 1] # This is how you reassign the last row as a row of 1's."
   ]
  },
  {
   "cell_type": "code",
   "execution_count": 35,
   "id": "fda21bc1-b933-407c-982e-a7a0cf8aeb25",
   "metadata": {},
   "outputs": [
    {
     "data": {
      "text/plain": [
       "array([[ 1, 20,  3],\n",
       "       [ 4,  5,  6],\n",
       "       [ 1,  1,  1]])"
      ]
     },
     "execution_count": 35,
     "metadata": {},
     "output_type": "execute_result"
    }
   ],
   "source": [
    "n"
   ]
  },
  {
   "cell_type": "code",
   "execution_count": 36,
   "id": "c4cec59a-00e6-4ae6-9520-eca216212ae5",
   "metadata": {},
   "outputs": [
    {
     "data": {
      "text/plain": [
       "array([20,  5,  1])"
      ]
     },
     "execution_count": 36,
     "metadata": {},
     "output_type": "execute_result"
    }
   ],
   "source": [
    "# Use the colon operator to get stuff from an entire row, when you're attempting to access a column.\n",
    "n[:,1] # This will extract the second column."
   ]
  },
  {
   "cell_type": "code",
   "execution_count": 39,
   "id": "46c1205e-51c5-404b-b2cc-634ca7b1a7c3",
   "metadata": {},
   "outputs": [
    {
     "data": {
      "text/plain": [
       "array([[ 1, 20,  0],\n",
       "       [ 4,  5,  1],\n",
       "       [ 1,  1,  2]])"
      ]
     },
     "execution_count": 39,
     "metadata": {},
     "output_type": "execute_result"
    }
   ],
   "source": [
    "# You can assign the columns each a new value.\n",
    "n[:,2] = [0,1,2] # This will assign it to the last column\n",
    "n"
   ]
  },
  {
   "cell_type": "code",
   "execution_count": 42,
   "id": "e4fe5ce1-786c-4582-b07c-f8be23918e7a",
   "metadata": {},
   "outputs": [
    {
     "data": {
      "text/plain": [
       "array([[0.4359949 , 0.02592623],\n",
       "       [0.54966248, 0.43532239],\n",
       "       [0.4203678 , 0.33033482],\n",
       "       [0.20464863, 0.61927097],\n",
       "       [0.29965467, 0.26682728]])"
      ]
     },
     "execution_count": 42,
     "metadata": {},
     "output_type": "execute_result"
    }
   ],
   "source": [
    "# Randomly Generated Arrays\n",
    "np.random.seed(2) # Use this to generate the same random results between different computers.\n",
    "np.random.rand(5,2) # This will generate an array with 5 rows and 2 columns with random numbers valued between 0 and 1."
   ]
  },
  {
   "cell_type": "code",
   "execution_count": 43,
   "id": "fe709104-4995-4899-b652-a57382772f77",
   "metadata": {},
   "outputs": [
    {
     "data": {
      "text/plain": [
       "array([[43.59949021,  2.59262318],\n",
       "       [54.96624779, 43.53223926],\n",
       "       [42.03678021, 33.0334821 ],\n",
       "       [20.4648634 , 61.92709664],\n",
       "       [29.96546737, 26.68272751]])"
      ]
     },
     "execution_count": 43,
     "metadata": {},
     "output_type": "execute_result"
    }
   ],
   "source": [
    "np.random.seed(2) # Use this to generate the same random results between different computers.\n",
    "100 * np.random.rand(5,2) # This will generate an array with 5 rows and 2 columns with random numbers valued between 0 and 100."
   ]
  },
  {
   "cell_type": "code",
   "execution_count": 45,
   "id": "7a2e3109-c9c8-4712-a04e-da2cce057a72",
   "metadata": {},
   "outputs": [
    {
     "data": {
      "text/plain": [
       "array([[40, 15],\n",
       "       [72, 22],\n",
       "       [43, 82],\n",
       "       [75,  7],\n",
       "       [34, 49]])"
      ]
     },
     "execution_count": 45,
     "metadata": {},
     "output_type": "execute_result"
    }
   ],
   "source": [
    "# This next segment generates an matrix with 5 rows and 2 columns with random values from 0 to [less than] 100\n",
    "np.random.seed(2)\n",
    "np.random.randint(low=0, high=100, size=(5,2))"
   ]
  },
  {
   "cell_type": "code",
   "execution_count": null,
   "id": "fb472e68-a595-4b9b-8a4c-8eddc11b3291",
   "metadata": {},
   "outputs": [],
   "source": [
    "# Element-wise Operations"
   ]
  },
  {
   "cell_type": "code",
   "execution_count": 46,
   "id": "feda15e4-3ee7-47ab-8884-61129d1ac668",
   "metadata": {},
   "outputs": [
    {
     "data": {
      "text/plain": [
       "array([0, 1, 2, 3, 4])"
      ]
     },
     "execution_count": 46,
     "metadata": {},
     "output_type": "execute_result"
    }
   ],
   "source": [
    "a = np.arange(5)\n",
    "a"
   ]
  },
  {
   "cell_type": "code",
   "execution_count": 47,
   "id": "b3bf1e80-5099-493e-85d2-ad9c76e7f14c",
   "metadata": {},
   "outputs": [
    {
     "data": {
      "text/plain": [
       "array([1, 2, 3, 4, 5])"
      ]
     },
     "execution_count": 47,
     "metadata": {},
     "output_type": "execute_result"
    }
   ],
   "source": [
    "# Suppose you want to add a number to this array\n",
    "a + 1"
   ]
  },
  {
   "cell_type": "code",
   "execution_count": 48,
   "id": "67697bc0-029b-4928-880d-e5f70431c5b5",
   "metadata": {},
   "outputs": [
    {
     "data": {
      "text/plain": [
       "array([0, 2, 4, 6, 8])"
      ]
     },
     "execution_count": 48,
     "metadata": {},
     "output_type": "execute_result"
    }
   ],
   "source": [
    "# This is multiplying the values in an array:\n",
    "a*2"
   ]
  },
  {
   "cell_type": "code",
   "execution_count": 50,
   "id": "0d1b6d3d-7412-408c-965c-d36b9b8fd536",
   "metadata": {},
   "outputs": [
    {
     "data": {
      "text/plain": [
       "array([100, 144, 196, 256, 324], dtype=int32)"
      ]
     },
     "execution_count": 50,
     "metadata": {},
     "output_type": "execute_result"
    }
   ],
   "source": [
    "# This operation adds 10 a multiplied array, then raises it to power 2.\n",
    "(10 + (a * 2)) ** 2"
   ]
  },
  {
   "cell_type": "code",
   "execution_count": 54,
   "id": "0d66431e-568f-4dd0-9677-3eba75d8174d",
   "metadata": {},
   "outputs": [
    {
     "data": {
      "text/plain": [
       "array([1.  , 1.44, 1.96, 2.56, 3.24])"
      ]
     },
     "execution_count": 54,
     "metadata": {},
     "output_type": "execute_result"
    }
   ],
   "source": [
    "b = (10 + (a * 2)) ** 2/100\n",
    "b"
   ]
  },
  {
   "cell_type": "code",
   "execution_count": 55,
   "id": "cd6b32c6-65b2-4034-94d1-8e571270b26e",
   "metadata": {},
   "outputs": [
    {
     "data": {
      "text/plain": [
       "array([1.  , 2.44, 3.96, 5.56, 7.24])"
      ]
     },
     "execution_count": 55,
     "metadata": {},
     "output_type": "execute_result"
    }
   ],
   "source": [
    "# You can combine a and b\n",
    "a + b"
   ]
  },
  {
   "cell_type": "code",
   "execution_count": 57,
   "id": "a1632340-f6c7-43a6-becd-0cad3f9d44f0",
   "metadata": {},
   "outputs": [
    {
     "data": {
      "text/plain": [
       "array([10.        , 10.69444444, 11.02040816, 11.171875  , 11.2345679 ])"
      ]
     },
     "execution_count": 57,
     "metadata": {},
     "output_type": "execute_result"
    }
   ],
   "source": [
    "# You can divide\n",
    "a / b + 10"
   ]
  },
  {
   "cell_type": "code",
   "execution_count": 60,
   "id": "dfee3d4f-e2c3-4ecd-81d9-677cd5b3ed22",
   "metadata": {},
   "outputs": [
    {
     "data": {
      "text/plain": [
       "array([0, 1, 2, 3, 4])"
      ]
     },
     "execution_count": 60,
     "metadata": {},
     "output_type": "execute_result"
    }
   ],
   "source": [
    "# Comparison Operations\n",
    "a"
   ]
  },
  {
   "cell_type": "code",
   "execution_count": 59,
   "id": "ea953650-22d7-49d2-a684-67e60205253c",
   "metadata": {},
   "outputs": [
    {
     "data": {
      "text/plain": [
       "array([False, False,  True,  True,  True])"
      ]
     },
     "execution_count": 59,
     "metadata": {},
     "output_type": "execute_result"
    }
   ],
   "source": [
    "# How to see if an element in an array is greater than or equal to 2:\n",
    "a >= 2"
   ]
  },
  {
   "cell_type": "code",
   "execution_count": 61,
   "id": "d4d27a2a-58b1-40e1-b842-9a82e362927b",
   "metadata": {},
   "outputs": [
    {
     "data": {
      "text/plain": [
       "array([1.  , 1.44, 1.96, 2.56, 3.24])"
      ]
     },
     "execution_count": 61,
     "metadata": {},
     "output_type": "execute_result"
    }
   ],
   "source": [
    "b"
   ]
  },
  {
   "cell_type": "code",
   "execution_count": 62,
   "id": "d844f9c8-cc03-4c80-8331-d931074ca9bc",
   "metadata": {},
   "outputs": [
    {
     "data": {
      "text/plain": [
       "array([False, False,  True,  True,  True])"
      ]
     },
     "execution_count": 62,
     "metadata": {},
     "output_type": "execute_result"
    }
   ],
   "source": [
    "a > b"
   ]
  },
  {
   "cell_type": "code",
   "execution_count": 63,
   "id": "85b9baa4-7bd5-4041-94b3-06ebd954e084",
   "metadata": {},
   "outputs": [
    {
     "data": {
      "text/plain": [
       "array([2, 3, 4])"
      ]
     },
     "execution_count": 63,
     "metadata": {},
     "output_type": "execute_result"
    }
   ],
   "source": [
    "# This returns all elements of array a for which the comparison is true.\n",
    "a[a > b]"
   ]
  },
  {
   "cell_type": "code",
   "execution_count": 64,
   "id": "90924d7f-8931-4227-96bd-7deb3caa0ac0",
   "metadata": {},
   "outputs": [
    {
     "data": {
      "text/plain": [
       "array([0, 1, 2, 3, 4])"
      ]
     },
     "execution_count": 64,
     "metadata": {},
     "output_type": "execute_result"
    }
   ],
   "source": [
    "# Summarizing Operations\n",
    "a"
   ]
  },
  {
   "cell_type": "code",
   "execution_count": 65,
   "id": "1aecf14e-2c15-4e76-bdc4-7e8a1a88ac3c",
   "metadata": {},
   "outputs": [
    {
     "data": {
      "text/plain": [
       "0"
      ]
     },
     "execution_count": 65,
     "metadata": {},
     "output_type": "execute_result"
    }
   ],
   "source": [
    "a.min() # Returns the smallest element in the array"
   ]
  },
  {
   "cell_type": "code",
   "execution_count": 66,
   "id": "f047aee0-c59f-467c-93d0-b9022f111af2",
   "metadata": {},
   "outputs": [
    {
     "data": {
      "text/plain": [
       "4"
      ]
     },
     "execution_count": 66,
     "metadata": {},
     "output_type": "execute_result"
    }
   ],
   "source": [
    "a.max() # Returns the largest element in the array"
   ]
  },
  {
   "cell_type": "code",
   "execution_count": 67,
   "id": "a4d91e9b-9900-4843-acaf-46570822ce5f",
   "metadata": {},
   "outputs": [
    {
     "data": {
      "text/plain": [
       "10"
      ]
     },
     "execution_count": 67,
     "metadata": {},
     "output_type": "execute_result"
    }
   ],
   "source": [
    "# The sum of all elements in the array\n",
    "a.sum()"
   ]
  },
  {
   "cell_type": "code",
   "execution_count": 68,
   "id": "3961ccdd-db54-4209-9da4-fbf641841cde",
   "metadata": {},
   "outputs": [
    {
     "data": {
      "text/plain": [
       "2.0"
      ]
     },
     "execution_count": 68,
     "metadata": {},
     "output_type": "execute_result"
    }
   ],
   "source": [
    "# You can compute the average\n",
    "a.mean()"
   ]
  },
  {
   "cell_type": "code",
   "execution_count": 70,
   "id": "70902754-9a29-44c9-a1aa-8d29e60319eb",
   "metadata": {},
   "outputs": [
    {
     "data": {
      "text/plain": [
       "1.4142135623730951"
      ]
     },
     "execution_count": 70,
     "metadata": {},
     "output_type": "execute_result"
    }
   ],
   "source": [
    "# Standard deviation\n",
    "a.std()"
   ]
  },
  {
   "cell_type": "code",
   "execution_count": 71,
   "id": "40cc6c30-b8d6-4fda-9fa4-5e9195cc1efa",
   "metadata": {},
   "outputs": [
    {
     "data": {
      "text/plain": [
       "35"
      ]
     },
     "execution_count": 71,
     "metadata": {},
     "output_type": "execute_result"
    }
   ],
   "source": [
    "n.sum()"
   ]
  },
  {
   "cell_type": "code",
   "execution_count": 72,
   "id": "d4f78c2f-47e3-40e1-aa7e-786e28bc4920",
   "metadata": {},
   "outputs": [
    {
     "data": {
      "text/plain": [
       "0"
      ]
     },
     "execution_count": 72,
     "metadata": {},
     "output_type": "execute_result"
    }
   ],
   "source": [
    "n.min()"
   ]
  },
  {
   "cell_type": "code",
   "execution_count": null,
   "id": "cbc9b0be-e24c-458a-982a-ade300c3b0af",
   "metadata": {},
   "outputs": [],
   "source": []
  }
 ],
 "metadata": {
  "kernelspec": {
   "display_name": "Python 3 (ipykernel)",
   "language": "python",
   "name": "python3"
  },
  "language_info": {
   "codemirror_mode": {
    "name": "ipython",
    "version": 3
   },
   "file_extension": ".py",
   "mimetype": "text/x-python",
   "name": "python",
   "nbconvert_exporter": "python",
   "pygments_lexer": "ipython3",
   "version": "3.9.12"
  }
 },
 "nbformat": 4,
 "nbformat_minor": 5
}
